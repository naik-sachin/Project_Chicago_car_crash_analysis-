{
 "cells": [
  {
   "cell_type": "code",
   "execution_count": 2,
   "metadata": {
    "ExecuteTime": {
     "end_time": "2021-07-09T20:08:39.732069Z",
     "start_time": "2021-07-09T20:08:38.586629Z"
    }
   },
   "outputs": [],
   "source": [
    "#import packages necessary ofr processing data\n",
    "import pandas as pd"
   ]
  },
  {
   "cell_type": "markdown",
   "metadata": {
    "ExecuteTime": {
     "end_time": "2020-11-27T16:29:35.208390Z",
     "start_time": "2020-11-27T16:29:23.103Z"
    }
   },
   "source": [
    "#### Import data"
   ]
  },
  {
   "cell_type": "code",
   "execution_count": null,
   "metadata": {
    "ExecuteTime": {
     "start_time": "2021-07-09T20:08:39.646Z"
    }
   },
   "outputs": [],
   "source": [
    "#Crash data for the year 2020\n",
    "df = pd.read_csv(\"Data/Traffic_Crashes_-_Crashes_all.csv\")"
   ]
  },
  {
   "cell_type": "code",
   "execution_count": 3,
   "metadata": {
    "ExecuteTime": {
     "end_time": "2021-06-30T20:02:24.808890Z",
     "start_time": "2021-06-30T20:02:24.715979Z"
    }
   },
   "outputs": [
    {
     "data": {
      "text/html": [
       "<div>\n",
       "<style scoped>\n",
       "    .dataframe tbody tr th:only-of-type {\n",
       "        vertical-align: middle;\n",
       "    }\n",
       "\n",
       "    .dataframe tbody tr th {\n",
       "        vertical-align: top;\n",
       "    }\n",
       "\n",
       "    .dataframe thead th {\n",
       "        text-align: right;\n",
       "    }\n",
       "</style>\n",
       "<table border=\"1\" class=\"dataframe\">\n",
       "  <thead>\n",
       "    <tr style=\"text-align: right;\">\n",
       "      <th></th>\n",
       "      <th>CRASH_RECORD_ID</th>\n",
       "      <th>RD_NO</th>\n",
       "      <th>CRASH_DATE_EST_I</th>\n",
       "      <th>CRASH_DATE</th>\n",
       "      <th>POSTED_SPEED_LIMIT</th>\n",
       "      <th>TRAFFIC_CONTROL_DEVICE</th>\n",
       "      <th>DEVICE_CONDITION</th>\n",
       "      <th>WEATHER_CONDITION</th>\n",
       "      <th>LIGHTING_CONDITION</th>\n",
       "      <th>FIRST_CRASH_TYPE</th>\n",
       "      <th>...</th>\n",
       "      <th>INJURIES_NON_INCAPACITATING</th>\n",
       "      <th>INJURIES_REPORTED_NOT_EVIDENT</th>\n",
       "      <th>INJURIES_NO_INDICATION</th>\n",
       "      <th>INJURIES_UNKNOWN</th>\n",
       "      <th>CRASH_HOUR</th>\n",
       "      <th>CRASH_DAY_OF_WEEK</th>\n",
       "      <th>CRASH_MONTH</th>\n",
       "      <th>LATITUDE</th>\n",
       "      <th>LONGITUDE</th>\n",
       "      <th>LOCATION</th>\n",
       "    </tr>\n",
       "  </thead>\n",
       "  <tbody>\n",
       "    <tr>\n",
       "      <th>0</th>\n",
       "      <td>073682ef84ff827659552d4254ad1b98bfec24935cc9cc...</td>\n",
       "      <td>JB460108</td>\n",
       "      <td>NaN</td>\n",
       "      <td>10/02/2018 06:30:00 PM</td>\n",
       "      <td>10</td>\n",
       "      <td>NO CONTROLS</td>\n",
       "      <td>NO CONTROLS</td>\n",
       "      <td>CLEAR</td>\n",
       "      <td>DARKNESS</td>\n",
       "      <td>PARKED MOTOR VEHICLE</td>\n",
       "      <td>...</td>\n",
       "      <td>0.0</td>\n",
       "      <td>0.0</td>\n",
       "      <td>1.0</td>\n",
       "      <td>0.0</td>\n",
       "      <td>18</td>\n",
       "      <td>3</td>\n",
       "      <td>10</td>\n",
       "      <td>NaN</td>\n",
       "      <td>NaN</td>\n",
       "      <td>NaN</td>\n",
       "    </tr>\n",
       "    <tr>\n",
       "      <th>1</th>\n",
       "      <td>1560fb8a1e32b528fef8bfd677d2b3fc5ab37278b157fa...</td>\n",
       "      <td>JC325941</td>\n",
       "      <td>NaN</td>\n",
       "      <td>06/27/2019 04:00:00 PM</td>\n",
       "      <td>45</td>\n",
       "      <td>NO CONTROLS</td>\n",
       "      <td>NO CONTROLS</td>\n",
       "      <td>CLEAR</td>\n",
       "      <td>DAYLIGHT</td>\n",
       "      <td>SIDESWIPE SAME DIRECTION</td>\n",
       "      <td>...</td>\n",
       "      <td>0.0</td>\n",
       "      <td>0.0</td>\n",
       "      <td>2.0</td>\n",
       "      <td>0.0</td>\n",
       "      <td>16</td>\n",
       "      <td>5</td>\n",
       "      <td>6</td>\n",
       "      <td>NaN</td>\n",
       "      <td>NaN</td>\n",
       "      <td>NaN</td>\n",
       "    </tr>\n",
       "    <tr>\n",
       "      <th>2</th>\n",
       "      <td>c7e667807d86ff2e83da48267e1135680cad68c86eb00f...</td>\n",
       "      <td>JD150617</td>\n",
       "      <td>NaN</td>\n",
       "      <td>02/13/2020 04:30:00 PM</td>\n",
       "      <td>30</td>\n",
       "      <td>NO CONTROLS</td>\n",
       "      <td>NO CONTROLS</td>\n",
       "      <td>CLEAR</td>\n",
       "      <td>DAYLIGHT</td>\n",
       "      <td>SIDESWIPE SAME DIRECTION</td>\n",
       "      <td>...</td>\n",
       "      <td>0.0</td>\n",
       "      <td>1.0</td>\n",
       "      <td>2.0</td>\n",
       "      <td>0.0</td>\n",
       "      <td>16</td>\n",
       "      <td>5</td>\n",
       "      <td>2</td>\n",
       "      <td>NaN</td>\n",
       "      <td>NaN</td>\n",
       "      <td>NaN</td>\n",
       "    </tr>\n",
       "    <tr>\n",
       "      <th>3</th>\n",
       "      <td>009e9e67203442370272e1a13d6ee51a4155dac65e583d...</td>\n",
       "      <td>JA329216</td>\n",
       "      <td>NaN</td>\n",
       "      <td>06/30/2017 04:00:00 PM</td>\n",
       "      <td>35</td>\n",
       "      <td>STOP SIGN/FLASHER</td>\n",
       "      <td>FUNCTIONING PROPERLY</td>\n",
       "      <td>CLEAR</td>\n",
       "      <td>DAYLIGHT</td>\n",
       "      <td>TURNING</td>\n",
       "      <td>...</td>\n",
       "      <td>0.0</td>\n",
       "      <td>0.0</td>\n",
       "      <td>3.0</td>\n",
       "      <td>0.0</td>\n",
       "      <td>16</td>\n",
       "      <td>6</td>\n",
       "      <td>6</td>\n",
       "      <td>41.741804</td>\n",
       "      <td>-87.740954</td>\n",
       "      <td>POINT (-87.740953581987 41.741803598989)</td>\n",
       "    </tr>\n",
       "    <tr>\n",
       "      <th>4</th>\n",
       "      <td>00e47f189660cd8ba1e85fc63061bf1d8465184393f134...</td>\n",
       "      <td>JC194776</td>\n",
       "      <td>NaN</td>\n",
       "      <td>03/21/2019 10:50:00 PM</td>\n",
       "      <td>30</td>\n",
       "      <td>TRAFFIC SIGNAL</td>\n",
       "      <td>FUNCTIONING PROPERLY</td>\n",
       "      <td>CLEAR</td>\n",
       "      <td>DARKNESS, LIGHTED ROAD</td>\n",
       "      <td>TURNING</td>\n",
       "      <td>...</td>\n",
       "      <td>0.0</td>\n",
       "      <td>0.0</td>\n",
       "      <td>2.0</td>\n",
       "      <td>0.0</td>\n",
       "      <td>22</td>\n",
       "      <td>5</td>\n",
       "      <td>3</td>\n",
       "      <td>41.741804</td>\n",
       "      <td>-87.740954</td>\n",
       "      <td>POINT (-87.740953581987 41.741803598989)</td>\n",
       "    </tr>\n",
       "  </tbody>\n",
       "</table>\n",
       "<p>5 rows × 49 columns</p>\n",
       "</div>"
      ],
      "text/plain": [
       "                                     CRASH_RECORD_ID     RD_NO  \\\n",
       "0  073682ef84ff827659552d4254ad1b98bfec24935cc9cc...  JB460108   \n",
       "1  1560fb8a1e32b528fef8bfd677d2b3fc5ab37278b157fa...  JC325941   \n",
       "2  c7e667807d86ff2e83da48267e1135680cad68c86eb00f...  JD150617   \n",
       "3  009e9e67203442370272e1a13d6ee51a4155dac65e583d...  JA329216   \n",
       "4  00e47f189660cd8ba1e85fc63061bf1d8465184393f134...  JC194776   \n",
       "\n",
       "  CRASH_DATE_EST_I              CRASH_DATE  POSTED_SPEED_LIMIT  \\\n",
       "0              NaN  10/02/2018 06:30:00 PM                  10   \n",
       "1              NaN  06/27/2019 04:00:00 PM                  45   \n",
       "2              NaN  02/13/2020 04:30:00 PM                  30   \n",
       "3              NaN  06/30/2017 04:00:00 PM                  35   \n",
       "4              NaN  03/21/2019 10:50:00 PM                  30   \n",
       "\n",
       "  TRAFFIC_CONTROL_DEVICE      DEVICE_CONDITION WEATHER_CONDITION  \\\n",
       "0            NO CONTROLS           NO CONTROLS             CLEAR   \n",
       "1            NO CONTROLS           NO CONTROLS             CLEAR   \n",
       "2            NO CONTROLS           NO CONTROLS             CLEAR   \n",
       "3      STOP SIGN/FLASHER  FUNCTIONING PROPERLY             CLEAR   \n",
       "4         TRAFFIC SIGNAL  FUNCTIONING PROPERLY             CLEAR   \n",
       "\n",
       "       LIGHTING_CONDITION          FIRST_CRASH_TYPE  ...  \\\n",
       "0                DARKNESS      PARKED MOTOR VEHICLE  ...   \n",
       "1                DAYLIGHT  SIDESWIPE SAME DIRECTION  ...   \n",
       "2                DAYLIGHT  SIDESWIPE SAME DIRECTION  ...   \n",
       "3                DAYLIGHT                   TURNING  ...   \n",
       "4  DARKNESS, LIGHTED ROAD                   TURNING  ...   \n",
       "\n",
       "  INJURIES_NON_INCAPACITATING  INJURIES_REPORTED_NOT_EVIDENT  \\\n",
       "0                         0.0                            0.0   \n",
       "1                         0.0                            0.0   \n",
       "2                         0.0                            1.0   \n",
       "3                         0.0                            0.0   \n",
       "4                         0.0                            0.0   \n",
       "\n",
       "  INJURIES_NO_INDICATION INJURIES_UNKNOWN CRASH_HOUR CRASH_DAY_OF_WEEK  \\\n",
       "0                    1.0              0.0         18                 3   \n",
       "1                    2.0              0.0         16                 5   \n",
       "2                    2.0              0.0         16                 5   \n",
       "3                    3.0              0.0         16                 6   \n",
       "4                    2.0              0.0         22                 5   \n",
       "\n",
       "  CRASH_MONTH   LATITUDE  LONGITUDE                                  LOCATION  \n",
       "0          10        NaN        NaN                                       NaN  \n",
       "1           6        NaN        NaN                                       NaN  \n",
       "2           2        NaN        NaN                                       NaN  \n",
       "3           6  41.741804 -87.740954  POINT (-87.740953581987 41.741803598989)  \n",
       "4           3  41.741804 -87.740954  POINT (-87.740953581987 41.741803598989)  \n",
       "\n",
       "[5 rows x 49 columns]"
      ]
     },
     "execution_count": 3,
     "metadata": {},
     "output_type": "execute_result"
    }
   ],
   "source": [
    "df.head()"
   ]
  },
  {
   "cell_type": "code",
   "execution_count": 4,
   "metadata": {
    "ExecuteTime": {
     "end_time": "2021-06-30T20:02:26.112127Z",
     "start_time": "2021-06-30T20:02:24.813888Z"
    }
   },
   "outputs": [
    {
     "name": "stdout",
     "output_type": "stream",
     "text": [
      "<class 'pandas.core.frame.DataFrame'>\n",
      "RangeIndex: 458727 entries, 0 to 458726\n",
      "Data columns (total 49 columns):\n",
      " #   Column                         Non-Null Count   Dtype  \n",
      "---  ------                         --------------   -----  \n",
      " 0   CRASH_RECORD_ID                458727 non-null  object \n",
      " 1   RD_NO                          455582 non-null  object \n",
      " 2   CRASH_DATE_EST_I               34095 non-null   object \n",
      " 3   CRASH_DATE                     458727 non-null  object \n",
      " 4   POSTED_SPEED_LIMIT             458727 non-null  int64  \n",
      " 5   TRAFFIC_CONTROL_DEVICE         458727 non-null  object \n",
      " 6   DEVICE_CONDITION               458727 non-null  object \n",
      " 7   WEATHER_CONDITION              458727 non-null  object \n",
      " 8   LIGHTING_CONDITION             458727 non-null  object \n",
      " 9   FIRST_CRASH_TYPE               458727 non-null  object \n",
      " 10  TRAFFICWAY_TYPE                458727 non-null  object \n",
      " 11  LANE_CNT                       198960 non-null  float64\n",
      " 12  ALIGNMENT                      458727 non-null  object \n",
      " 13  ROADWAY_SURFACE_COND           458727 non-null  object \n",
      " 14  ROAD_DEFECT                    458727 non-null  object \n",
      " 15  REPORT_TYPE                    447731 non-null  object \n",
      " 16  CRASH_TYPE                     458727 non-null  object \n",
      " 17  INTERSECTION_RELATED_I         103382 non-null  object \n",
      " 18  NOT_RIGHT_OF_WAY_I             21499 non-null   object \n",
      " 19  HIT_AND_RUN_I                  133086 non-null  object \n",
      " 20  DAMAGE                         458727 non-null  object \n",
      " 21  DATE_POLICE_NOTIFIED           458727 non-null  object \n",
      " 22  PRIM_CONTRIBUTORY_CAUSE        458727 non-null  object \n",
      " 23  SEC_CONTRIBUTORY_CAUSE         458727 non-null  object \n",
      " 24  STREET_NO                      458727 non-null  int64  \n",
      " 25  STREET_DIRECTION               458724 non-null  object \n",
      " 26  STREET_NAME                    458726 non-null  object \n",
      " 27  BEAT_OF_OCCURRENCE             458722 non-null  float64\n",
      " 28  PHOTOS_TAKEN_I                 5787 non-null    object \n",
      " 29  STATEMENTS_TAKEN_I             9226 non-null    object \n",
      " 30  DOORING_I                      1516 non-null    object \n",
      " 31  WORK_ZONE_I                    3044 non-null    object \n",
      " 32  WORK_ZONE_TYPE                 2407 non-null    object \n",
      " 33  WORKERS_PRESENT_I              723 non-null     object \n",
      " 34  NUM_UNITS                      458727 non-null  int64  \n",
      " 35  MOST_SEVERE_INJURY             457812 non-null  object \n",
      " 36  INJURIES_TOTAL                 457822 non-null  float64\n",
      " 37  INJURIES_FATAL                 457822 non-null  float64\n",
      " 38  INJURIES_INCAPACITATING        457822 non-null  float64\n",
      " 39  INJURIES_NON_INCAPACITATING    457822 non-null  float64\n",
      " 40  INJURIES_REPORTED_NOT_EVIDENT  457822 non-null  float64\n",
      " 41  INJURIES_NO_INDICATION         457822 non-null  float64\n",
      " 42  INJURIES_UNKNOWN               457822 non-null  float64\n",
      " 43  CRASH_HOUR                     458727 non-null  int64  \n",
      " 44  CRASH_DAY_OF_WEEK              458727 non-null  int64  \n",
      " 45  CRASH_MONTH                    458727 non-null  int64  \n",
      " 46  LATITUDE                       456233 non-null  float64\n",
      " 47  LONGITUDE                      456233 non-null  float64\n",
      " 48  LOCATION                       456233 non-null  object \n",
      "dtypes: float64(11), int64(6), object(32)\n",
      "memory usage: 171.5+ MB\n"
     ]
    }
   ],
   "source": [
    "df.info()"
   ]
  },
  {
   "cell_type": "markdown",
   "metadata": {},
   "source": [
    "#### Dropping columns that wont be used"
   ]
  },
  {
   "cell_type": "code",
   "execution_count": 5,
   "metadata": {
    "ExecuteTime": {
     "end_time": "2021-06-30T20:02:26.350776Z",
     "start_time": "2021-06-30T20:02:26.116124Z"
    }
   },
   "outputs": [],
   "source": [
    "df.drop(['CRASH_DATE','CRASH_RECORD_ID','RD_NO','CRASH_DATE_EST_I','DATE_POLICE_NOTIFIED','BEAT_OF_OCCURRENCE','PHOTOS_TAKEN_I','STATEMENTS_TAKEN_I','STREET_NO','STREET_DIRECTION','STREET_NAME'],axis=1, inplace=True)\n",
    "         "
   ]
  },
  {
   "cell_type": "markdown",
   "metadata": {},
   "source": [
    "#### Check to see null entries in all columns and value counts of the columns with null entries"
   ]
  },
  {
   "cell_type": "code",
   "execution_count": 6,
   "metadata": {
    "ExecuteTime": {
     "end_time": "2021-06-30T20:02:29.028620Z",
     "start_time": "2021-06-30T20:02:26.354772Z"
    }
   },
   "outputs": [
    {
     "name": "stdout",
     "output_type": "stream",
     "text": [
      "Nulls:  259767\n",
      "2.0          91135\n",
      "4.0          49577\n",
      "1.0          32542\n",
      "3.0           8672\n",
      "0.0           8029\n",
      "6.0           4500\n",
      "5.0           1938\n",
      "8.0           1906\n",
      "7.0            184\n",
      "10.0           162\n",
      "99.0           108\n",
      "9.0             66\n",
      "11.0            30\n",
      "12.0            29\n",
      "20.0            15\n",
      "22.0            13\n",
      "16.0             7\n",
      "15.0             7\n",
      "14.0             5\n",
      "30.0             5\n",
      "40.0             4\n",
      "21.0             3\n",
      "60.0             3\n",
      "25.0             2\n",
      "100.0            2\n",
      "45.0             1\n",
      "218474.0         1\n",
      "80.0             1\n",
      "902.0            1\n",
      "400.0            1\n",
      "17.0             1\n",
      "35.0             1\n",
      "1191625.0        1\n",
      "44.0             1\n",
      "299679.0         1\n",
      "19.0             1\n",
      "28.0             1\n",
      "433634.0         1\n",
      "13.0             1\n",
      "41.0             1\n",
      "24.0             1\n",
      "Name: LANE_CNT, dtype: int64\n",
      "-------------------------------------------------------\n",
      "Nulls:  10996\n",
      "NOT ON SCENE (DESK REPORT)    266392\n",
      "ON SCENE                      181099\n",
      "AMENDED                          240\n",
      "Name: REPORT_TYPE, dtype: int64\n",
      "-------------------------------------------------------\n",
      "Nulls:  355345\n",
      "Y    98490\n",
      "N     4892\n",
      "Name: INTERSECTION_RELATED_I, dtype: int64\n",
      "-------------------------------------------------------\n",
      "Nulls:  437228\n",
      "Y    19632\n",
      "N     1867\n",
      "Name: NOT_RIGHT_OF_WAY_I, dtype: int64\n",
      "-------------------------------------------------------\n",
      "Nulls:  325641\n",
      "Y    127254\n",
      "N      5832\n",
      "Name: HIT_AND_RUN_I, dtype: int64\n",
      "-------------------------------------------------------\n",
      "Nulls:  457211\n",
      "Y    1048\n",
      "N     468\n",
      "Name: DOORING_I, dtype: int64\n",
      "-------------------------------------------------------\n",
      "Nulls:  455683\n",
      "Y    2407\n",
      "N     637\n",
      "Name: WORK_ZONE_I, dtype: int64\n",
      "-------------------------------------------------------\n",
      "Nulls:  456320\n",
      "CONSTRUCTION    1701\n",
      "UNKNOWN          317\n",
      "MAINTENANCE      240\n",
      "UTILITY          149\n",
      "Name: WORK_ZONE_TYPE, dtype: int64\n",
      "-------------------------------------------------------\n",
      "Nulls:  458004\n",
      "Y    646\n",
      "N     77\n",
      "Name: WORKERS_PRESENT_I, dtype: int64\n",
      "-------------------------------------------------------\n",
      "Nulls:  915\n",
      "NO INDICATION OF INJURY     399045\n",
      "NONINCAPACITATING INJURY     32507\n",
      "REPORTED, NOT EVIDENT        18360\n",
      "INCAPACITATING INJURY         7458\n",
      "FATAL                          442\n",
      "Name: MOST_SEVERE_INJURY, dtype: int64\n",
      "-------------------------------------------------------\n",
      "Nulls:  905\n",
      "0.0     399055\n",
      "1.0      44522\n",
      "2.0       9572\n",
      "3.0       2953\n",
      "4.0       1052\n",
      "5.0        394\n",
      "6.0        155\n",
      "7.0         59\n",
      "8.0         19\n",
      "9.0         14\n",
      "10.0         9\n",
      "15.0         5\n",
      "11.0         5\n",
      "12.0         2\n",
      "13.0         2\n",
      "21.0         2\n",
      "16.0         1\n",
      "19.0         1\n",
      "Name: INJURIES_TOTAL, dtype: int64\n",
      "-------------------------------------------------------\n",
      "Nulls:  905\n",
      "0.0    457380\n",
      "1.0       411\n",
      "2.0        25\n",
      "3.0         5\n",
      "4.0         1\n",
      "Name: INJURIES_FATAL, dtype: int64\n",
      "-------------------------------------------------------\n",
      "Nulls:  905\n",
      "0.0    450297\n",
      "1.0      6595\n",
      "2.0       687\n",
      "3.0       164\n",
      "4.0        60\n",
      "5.0        14\n",
      "6.0         4\n",
      "7.0         1\n",
      "Name: INJURIES_INCAPACITATING, dtype: int64\n",
      "-------------------------------------------------------\n",
      "Nulls:  905\n",
      "0.0     423934\n",
      "1.0      26799\n",
      "2.0       4818\n",
      "3.0       1447\n",
      "4.0        518\n",
      "5.0        183\n",
      "6.0         72\n",
      "7.0         26\n",
      "8.0          7\n",
      "10.0         5\n",
      "11.0         4\n",
      "9.0          3\n",
      "21.0         2\n",
      "16.0         1\n",
      "12.0         1\n",
      "18.0         1\n",
      "14.0         1\n",
      "Name: INJURIES_NON_INCAPACITATING, dtype: int64\n",
      "-------------------------------------------------------\n",
      "Nulls:  905\n",
      "0.0     437441\n",
      "1.0      15950\n",
      "2.0       3194\n",
      "3.0        833\n",
      "4.0        250\n",
      "5.0        105\n",
      "6.0         21\n",
      "7.0         10\n",
      "9.0          6\n",
      "8.0          5\n",
      "10.0         4\n",
      "15.0         2\n",
      "11.0         1\n",
      "Name: INJURIES_REPORTED_NOT_EVIDENT, dtype: int64\n",
      "-------------------------------------------------------\n",
      "Nulls:  905\n",
      "2.0     215197\n",
      "1.0     135968\n",
      "3.0      59199\n",
      "4.0      22583\n",
      "5.0       9512\n",
      "0.0       8338\n",
      "6.0       4055\n",
      "7.0       1542\n",
      "8.0        701\n",
      "9.0        298\n",
      "10.0       152\n",
      "11.0        72\n",
      "12.0        41\n",
      "14.0        28\n",
      "13.0        27\n",
      "16.0        16\n",
      "15.0        14\n",
      "17.0        10\n",
      "20.0         9\n",
      "21.0         6\n",
      "37.0         5\n",
      "30.0         5\n",
      "27.0         4\n",
      "26.0         4\n",
      "19.0         4\n",
      "22.0         4\n",
      "18.0         4\n",
      "36.0         3\n",
      "42.0         3\n",
      "31.0         3\n",
      "28.0         2\n",
      "29.0         2\n",
      "40.0         2\n",
      "38.0         1\n",
      "39.0         1\n",
      "46.0         1\n",
      "34.0         1\n",
      "25.0         1\n",
      "33.0         1\n",
      "50.0         1\n",
      "61.0         1\n",
      "24.0         1\n",
      "Name: INJURIES_NO_INDICATION, dtype: int64\n",
      "-------------------------------------------------------\n",
      "Nulls:  905\n",
      "0.0    457822\n",
      "Name: INJURIES_UNKNOWN, dtype: int64\n",
      "-------------------------------------------------------\n",
      "Nulls:  2494\n",
      "41.976201    589\n",
      "41.791420    309\n",
      "41.751461    305\n",
      "41.722257    251\n",
      "41.754660    210\n",
      "            ... \n",
      "41.790889      1\n",
      "41.919748      1\n",
      "41.887049      1\n",
      "41.908035      1\n",
      "41.953431      1\n",
      "Name: LATITUDE, Length: 202892, dtype: int64\n",
      "-------------------------------------------------------\n",
      "Nulls:  2494\n",
      "-87.905309    589\n",
      "-87.580148    309\n",
      "-87.585972    305\n",
      "-87.585276    251\n",
      "-87.741385    210\n",
      "             ... \n",
      "-87.794186      1\n",
      "-87.691835      1\n",
      "-87.667172      1\n",
      "-87.635795      1\n",
      "-87.657207      1\n",
      "Name: LONGITUDE, Length: 202878, dtype: int64\n",
      "-------------------------------------------------------\n",
      "Nulls:  2494\n",
      "POINT (-87.905309125103 41.976201139024)    589\n",
      "POINT (-87.580147768689 41.791420282098)    309\n",
      "POINT (-87.585971992965 41.751460603167)    305\n",
      "POINT (-87.585275565077 41.722257273006)    251\n",
      "POINT (-87.741384758605 41.754660124394)    210\n",
      "                                           ... \n",
      "POINT (-87.650866629954 41.831608765434)      1\n",
      "POINT (-87.659905750662 41.714215512554)      1\n",
      "POINT (-87.672625930249 41.875770280108)      1\n",
      "POINT (-87.706491388848 41.89908781531)       1\n",
      "POINT (-87.674058968464 41.915143508849)      1\n",
      "Name: LOCATION, Length: 202977, dtype: int64\n",
      "-------------------------------------------------------\n"
     ]
    }
   ],
   "source": [
    "\n",
    "for col in df.columns:\n",
    "    if df[col].isnull().any():\n",
    "        print('Nulls: ',df[col].isnull().sum())\n",
    "        print(df[col].value_counts())\n",
    "        print(\"-------------------------------------------------------\")"
   ]
  },
  {
   "cell_type": "markdown",
   "metadata": {},
   "source": [
    " Based on number of null entries we can drop certain columns that have too many null values and are not worth keeping"
   ]
  },
  {
   "cell_type": "code",
   "execution_count": 7,
   "metadata": {
    "ExecuteTime": {
     "end_time": "2021-06-30T20:02:29.298706Z",
     "start_time": "2021-06-30T20:02:29.032618Z"
    }
   },
   "outputs": [],
   "source": [
    "#Drop columns that wont be used\n",
    "df.drop(['LANE_CNT','REPORT_TYPE','WORK_ZONE_TYPE'],axis=1, inplace=True)"
   ]
  },
  {
   "cell_type": "code",
   "execution_count": 8,
   "metadata": {
    "ExecuteTime": {
     "end_time": "2021-06-30T20:02:29.898632Z",
     "start_time": "2021-06-30T20:02:29.304710Z"
    }
   },
   "outputs": [],
   "source": [
    "#Drop latitude entries with nulls or 0\n",
    "df = df[df['LATITUDE'].notna()] \n",
    "df = df[df['LATITUDE']!=0]"
   ]
  },
  {
   "cell_type": "code",
   "execution_count": 9,
   "metadata": {
    "ExecuteTime": {
     "end_time": "2021-06-30T20:02:29.960555Z",
     "start_time": "2021-06-30T20:02:29.898632Z"
    }
   },
   "outputs": [],
   "source": [
    "#Fill null injury with no injury \n",
    "df['MOST_SEVERE_INJURY'].fillna('NO INDICATION OF INJURY',inplace = True)"
   ]
  },
  {
   "cell_type": "markdown",
   "metadata": {},
   "source": [
    "Based on the column entries of columns with null entries, it seem some of the columnshave yes/No entries, we can Fill the null in these columns with 0s and have Yes=1 and No=0"
   ]
  },
  {
   "cell_type": "code",
   "execution_count": 10,
   "metadata": {
    "ExecuteTime": {
     "end_time": "2021-06-30T20:02:32.648584Z",
     "start_time": "2021-06-30T20:02:29.964555Z"
    }
   },
   "outputs": [
    {
     "name": "stdout",
     "output_type": "stream",
     "text": [
      "INTERSECTION_RELATED_I Nulls: 0\n",
      "\n",
      "NOT_RIGHT_OF_WAY_I Nulls: 0\n",
      "\n",
      "HIT_AND_RUN_I Nulls: 0\n",
      "\n",
      "DOORING_I Nulls: 0\n",
      "\n",
      "WORK_ZONE_I Nulls: 0\n",
      "\n",
      "WORKERS_PRESENT_I Nulls: 0\n",
      "\n"
     ]
    }
   ],
   "source": [
    "\n",
    "Y_N_columns = ['INTERSECTION_RELATED_I', 'NOT_RIGHT_OF_WAY_I','HIT_AND_RUN_I', 'DOORING_I', 'WORK_ZONE_I', 'WORKERS_PRESENT_I']\n",
    "for col in Y_N_columns :\n",
    "    df[col] = df[col].map(lambda x: 1 if x =='Y' else 0)\n",
    "    print(col ,'Nulls:', df[col].isnull().sum())\n",
    "    print(\"\")"
   ]
  },
  {
   "cell_type": "markdown",
   "metadata": {},
   "source": [
    "Seems all injuries column have the same number of null entries , perhaps they all have the same issue "
   ]
  },
  {
   "cell_type": "code",
   "execution_count": 11,
   "metadata": {
    "ExecuteTime": {
     "end_time": "2021-06-30T20:02:32.744551Z",
     "start_time": "2021-06-30T20:02:32.653580Z"
    }
   },
   "outputs": [],
   "source": [
    "df_injuries=df[['MOST_SEVERE_INJURY','INJURIES_TOTAL','INJURIES_FATAL','INJURIES_INCAPACITATING','INJURIES_NON_INCAPACITATING','INJURIES_REPORTED_NOT_EVIDENT','INJURIES_NO_INDICATION','INJURIES_UNKNOWN']]"
   ]
  },
  {
   "cell_type": "code",
   "execution_count": 12,
   "metadata": {
    "ExecuteTime": {
     "end_time": "2021-06-30T20:02:32.824530Z",
     "start_time": "2021-06-30T20:02:32.747549Z"
    }
   },
   "outputs": [
    {
     "data": {
      "text/plain": [
       "MOST_SEVERE_INJURY                 0\n",
       "INJURIES_TOTAL                   900\n",
       "INJURIES_FATAL                   900\n",
       "INJURIES_INCAPACITATING          900\n",
       "INJURIES_NON_INCAPACITATING      900\n",
       "INJURIES_REPORTED_NOT_EVIDENT    900\n",
       "INJURIES_NO_INDICATION           900\n",
       "INJURIES_UNKNOWN                 900\n",
       "dtype: int64"
      ]
     },
     "execution_count": 12,
     "metadata": {},
     "output_type": "execute_result"
    }
   ],
   "source": [
    "df_injuries.isna().sum()"
   ]
  },
  {
   "cell_type": "markdown",
   "metadata": {},
   "source": [
    "Since there is already an entry for no injuries (0), null values may or may not mean no injury , perhaps we should look at other columns to see if no entry means something else. "
   ]
  },
  {
   "cell_type": "code",
   "execution_count": 13,
   "metadata": {
    "ExecuteTime": {
     "end_time": "2021-06-30T20:02:33.063449Z",
     "start_time": "2021-06-30T20:02:32.828523Z"
    },
    "scrolled": true
   },
   "outputs": [
    {
     "name": "stdout",
     "output_type": "stream",
     "text": [
      "NO INDICATION OF INJURY     397759\n",
      "NONINCAPACITATING INJURY     32332\n",
      "REPORTED, NOT EVIDENT        18254\n",
      "INCAPACITATING INJURY         7420\n",
      "FATAL                          438\n",
      "Name: MOST_SEVERE_INJURY, dtype: int64\n",
      "-------------------------------------------------------\n",
      "0.0     396859\n",
      "1.0      44291\n",
      "2.0       9507\n",
      "3.0       2938\n",
      "4.0       1048\n",
      "5.0        390\n",
      "6.0        153\n",
      "7.0         59\n",
      "8.0         19\n",
      "9.0         14\n",
      "10.0         9\n",
      "11.0         5\n",
      "15.0         4\n",
      "13.0         2\n",
      "21.0         2\n",
      "12.0         1\n",
      "16.0         1\n",
      "19.0         1\n",
      "Name: INJURIES_TOTAL, dtype: int64\n",
      "-------------------------------------------------------\n",
      "0.0    454865\n",
      "1.0       407\n",
      "2.0        25\n",
      "3.0         5\n",
      "4.0         1\n",
      "Name: INJURIES_FATAL, dtype: int64\n",
      "-------------------------------------------------------\n",
      "0.0    447816\n",
      "1.0      6564\n",
      "2.0       682\n",
      "3.0       163\n",
      "4.0        59\n",
      "5.0        14\n",
      "6.0         4\n",
      "7.0         1\n",
      "Name: INJURIES_INCAPACITATING, dtype: int64\n",
      "-------------------------------------------------------\n",
      "0.0     421597\n",
      "1.0      26663\n",
      "2.0       4787\n",
      "3.0       1438\n",
      "4.0        517\n",
      "5.0        179\n",
      "6.0         71\n",
      "7.0         26\n",
      "8.0          7\n",
      "10.0         5\n",
      "11.0         4\n",
      "9.0          3\n",
      "21.0         2\n",
      "16.0         1\n",
      "12.0         1\n",
      "18.0         1\n",
      "14.0         1\n",
      "Name: INJURIES_NON_INCAPACITATING, dtype: int64\n",
      "-------------------------------------------------------\n",
      "0.0     435038\n",
      "1.0      15870\n",
      "2.0       3165\n",
      "3.0        828\n",
      "4.0        250\n",
      "5.0        105\n",
      "6.0         21\n",
      "7.0         10\n",
      "9.0          6\n",
      "8.0          5\n",
      "10.0         3\n",
      "15.0         2\n",
      "Name: INJURIES_REPORTED_NOT_EVIDENT, dtype: int64\n",
      "-------------------------------------------------------\n",
      "2.0     213823\n",
      "1.0     135395\n",
      "3.0      58883\n",
      "4.0      22474\n",
      "5.0       9467\n",
      "0.0       8280\n",
      "6.0       4035\n",
      "7.0       1530\n",
      "8.0        695\n",
      "9.0        297\n",
      "10.0       150\n",
      "11.0        72\n",
      "12.0        41\n",
      "14.0        28\n",
      "13.0        26\n",
      "16.0        16\n",
      "15.0        14\n",
      "17.0        10\n",
      "20.0         8\n",
      "21.0         6\n",
      "30.0         5\n",
      "37.0         5\n",
      "26.0         4\n",
      "19.0         4\n",
      "27.0         4\n",
      "22.0         4\n",
      "36.0         3\n",
      "31.0         3\n",
      "42.0         3\n",
      "18.0         3\n",
      "29.0         2\n",
      "40.0         2\n",
      "28.0         2\n",
      "34.0         1\n",
      "33.0         1\n",
      "61.0         1\n",
      "50.0         1\n",
      "39.0         1\n",
      "38.0         1\n",
      "46.0         1\n",
      "25.0         1\n",
      "24.0         1\n",
      "Name: INJURIES_NO_INDICATION, dtype: int64\n",
      "-------------------------------------------------------\n",
      "0.0    455303\n",
      "Name: INJURIES_UNKNOWN, dtype: int64\n",
      "-------------------------------------------------------\n"
     ]
    }
   ],
   "source": [
    "for col in df_injuries.columns:\n",
    "    print(df_injuries[col].value_counts())\n",
    "    print(\"-------------------------------------------------------\")"
   ]
  },
  {
   "cell_type": "markdown",
   "metadata": {},
   "source": [
    "#For Injuries it might be better to consider the crash type column that tell us if an accident resulted in injury and the column for most severe injury for type of injuries involved in the accident . As that would allow us to get rid of the rest of the injury related columns while providing comprehensive data.\n"
   ]
  },
  {
   "cell_type": "code",
   "execution_count": 14,
   "metadata": {
    "ExecuteTime": {
     "end_time": "2021-06-30T20:02:33.254389Z",
     "start_time": "2021-06-30T20:02:33.066449Z"
    }
   },
   "outputs": [],
   "source": [
    "df.drop(columns= ['INJURIES_FATAL','INJURIES_INCAPACITATING','INJURIES_NON_INCAPACITATING',\n",
    "                  'INJURIES_REPORTED_NOT_EVIDENT','INJURIES_NO_INDICATION', 'INJURIES_UNKNOWN','INJURIES_TOTAL']\n",
    "                    ,axis = 1,inplace=True)"
   ]
  },
  {
   "cell_type": "code",
   "execution_count": 15,
   "metadata": {
    "ExecuteTime": {
     "end_time": "2021-06-30T20:02:33.476452Z",
     "start_time": "2021-06-30T20:02:33.258383Z"
    }
   },
   "outputs": [],
   "source": [
    "#Drop units entries with nulls \n",
    "df = df[df['NUM_UNITS'].notna()] "
   ]
  },
  {
   "cell_type": "markdown",
   "metadata": {},
   "source": [
    "#### Check to see value counts of the columns without null entries"
   ]
  },
  {
   "cell_type": "code",
   "execution_count": 16,
   "metadata": {
    "ExecuteTime": {
     "end_time": "2021-06-30T20:02:33.492447Z",
     "start_time": "2021-06-30T20:02:33.479451Z"
    }
   },
   "outputs": [],
   "source": [
    "# df.info()"
   ]
  },
  {
   "cell_type": "code",
   "execution_count": 17,
   "metadata": {
    "ExecuteTime": {
     "end_time": "2021-06-30T20:02:36.399640Z",
     "start_time": "2021-06-30T20:02:33.495445Z"
    }
   },
   "outputs": [
    {
     "name": "stdout",
     "output_type": "stream",
     "text": [
      "30    336561\n",
      "35     31528\n",
      "25     27573\n",
      "20     17432\n",
      "15     15765\n",
      "10      9398\n",
      "0       6690\n",
      "40      4142\n",
      "5       3544\n",
      "45      2638\n",
      "55       353\n",
      "3        114\n",
      "50        90\n",
      "9         89\n",
      "99        66\n",
      "39        51\n",
      "1         35\n",
      "60        23\n",
      "2         19\n",
      "32        13\n",
      "24        13\n",
      "65        10\n",
      "33         9\n",
      "34         7\n",
      "6          7\n",
      "36         5\n",
      "11         5\n",
      "70         3\n",
      "14         2\n",
      "12         2\n",
      "18         2\n",
      "26         2\n",
      "31         2\n",
      "7          2\n",
      "4          1\n",
      "49         1\n",
      "63         1\n",
      "16         1\n",
      "23         1\n",
      "29         1\n",
      "38         1\n",
      "22         1\n",
      "Name: POSTED_SPEED_LIMIT, dtype: int64\n",
      "-------------------------------------------------------\n",
      "NO CONTROLS                 262388\n",
      "TRAFFIC SIGNAL              127159\n",
      "STOP SIGN/FLASHER            45284\n",
      "UNKNOWN                      14736\n",
      "OTHER                         2722\n",
      "LANE USE MARKING              1173\n",
      "YIELD                          655\n",
      "OTHER REG. SIGN                440\n",
      "OTHER WARNING SIGN             394\n",
      "RAILROAD CROSSING GATE         306\n",
      "PEDESTRIAN CROSSING SIGN       184\n",
      "POLICE/FLAGMAN                 178\n",
      "SCHOOL ZONE                    167\n",
      "DELINEATORS                    129\n",
      "OTHER RAILROAD CROSSING        109\n",
      "FLASHING CONTROL SIGNAL        106\n",
      "RR CROSSING SIGN                38\n",
      "NO PASSING                      21\n",
      "BICYCLE CROSSING SIGN           14\n",
      "Name: TRAFFIC_CONTROL_DEVICE, dtype: int64\n",
      "-------------------------------------------------------\n",
      "NO CONTROLS                 265011\n",
      "FUNCTIONING PROPERLY        158424\n",
      "UNKNOWN                      24985\n",
      "OTHER                         3523\n",
      "FUNCTIONING IMPROPERLY        2485\n",
      "NOT FUNCTIONING               1515\n",
      "WORN REFLECTIVE MATERIAL       205\n",
      "MISSING                         55\n",
      "Name: DEVICE_CONDITION, dtype: int64\n",
      "-------------------------------------------------------\n",
      "CLEAR                       362352\n",
      "RAIN                         41584\n",
      "UNKNOWN                      19637\n",
      "SNOW                         15686\n",
      "CLOUDY/OVERCAST              13492\n",
      "OTHER                         1405\n",
      "FOG/SMOKE/HAZE                 798\n",
      "SLEET/HAIL                     655\n",
      "FREEZING RAIN/DRIZZLE          436\n",
      "SEVERE CROSS WIND GATE          94\n",
      "BLOWING SNOW                    62\n",
      "BLOWING SAND, SOIL, DIRT         2\n",
      "Name: WEATHER_CONDITION, dtype: int64\n",
      "-------------------------------------------------------\n",
      "DAYLIGHT                  298293\n",
      "DARKNESS, LIGHTED ROAD     96461\n",
      "DARKNESS                   23058\n",
      "UNKNOWN                    16497\n",
      "DUSK                       14026\n",
      "DAWN                        7868\n",
      "Name: LIGHTING_CONDITION, dtype: int64\n",
      "-------------------------------------------------------\n",
      "REAR END                        109843\n",
      "PARKED MOTOR VEHICLE            103954\n",
      "SIDESWIPE SAME DIRECTION         70946\n",
      "TURNING                          63875\n",
      "ANGLE                            48181\n",
      "FIXED OBJECT                     20445\n",
      "PEDESTRIAN                       10708\n",
      "PEDALCYCLIST                      6858\n",
      "SIDESWIPE OPPOSITE DIRECTION      6727\n",
      "OTHER OBJECT                      4321\n",
      "HEAD ON                           3855\n",
      "REAR TO FRONT                     2372\n",
      "OTHER NONCOLLISION                1544\n",
      "REAR TO SIDE                      1449\n",
      "REAR TO REAR                       535\n",
      "ANIMAL                             320\n",
      "OVERTURNED                         241\n",
      "TRAIN                               29\n",
      "Name: FIRST_CRASH_TYPE, dtype: int64\n",
      "-------------------------------------------------------\n",
      "NOT DIVIDED                        204877\n",
      "DIVIDED - W/MEDIAN (NOT RAISED)     81559\n",
      "ONE-WAY                             60153\n",
      "PARKING LOT                         32448\n",
      "DIVIDED - W/MEDIAN BARRIER          27158\n",
      "FOUR WAY                            13040\n",
      "OTHER                               12843\n",
      "ALLEY                                7469\n",
      "UNKNOWN                              4985\n",
      "CENTER TURN LANE                     3953\n",
      "T-INTERSECTION                       2737\n",
      "DRIVEWAY                             1579\n",
      "RAMP                                 1417\n",
      "UNKNOWN INTERSECTION TYPE             834\n",
      "Y-INTERSECTION                        338\n",
      "FIVE POINT, OR MORE                   332\n",
      "TRAFFIC ROUTE                         248\n",
      "NOT REPORTED                          104\n",
      "ROUNDABOUT                             82\n",
      "L-INTERSECTION                         47\n",
      "Name: TRAFFICWAY_TYPE, dtype: int64\n",
      "-------------------------------------------------------\n",
      "STRAIGHT AND LEVEL       444944\n",
      "STRAIGHT ON GRADE          5607\n",
      "CURVE, LEVEL               3364\n",
      "STRAIGHT ON HILLCREST      1419\n",
      "CURVE ON GRADE              643\n",
      "CURVE ON HILLCREST          226\n",
      "Name: ALIGNMENT, dtype: int64\n",
      "-------------------------------------------------------\n",
      "DRY                343907\n",
      "WET                 62834\n",
      "UNKNOWN             29928\n",
      "SNOW OR SLUSH       14895\n",
      "ICE                  3395\n",
      "OTHER                1033\n",
      "SAND, MUD, DIRT       211\n",
      "Name: ROADWAY_SURFACE_COND, dtype: int64\n",
      "-------------------------------------------------------\n",
      "NO DEFECTS           380012\n",
      "UNKNOWN               66013\n",
      "RUT, HOLES             4341\n",
      "OTHER                  2583\n",
      "WORN SURFACE           1848\n",
      "SHOULDER DEFECT        1003\n",
      "DEBRIS ON ROADWAY       403\n",
      "Name: ROAD_DEFECT, dtype: int64\n",
      "-------------------------------------------------------\n",
      "NO INJURY / DRIVE AWAY              344998\n",
      "INJURY AND / OR TOW DUE TO CRASH    111205\n",
      "Name: CRASH_TYPE, dtype: int64\n",
      "-------------------------------------------------------\n",
      "0    358217\n",
      "1     97986\n",
      "Name: INTERSECTION_RELATED_I, dtype: int64\n",
      "-------------------------------------------------------\n",
      "0    436652\n",
      "1     19551\n",
      "Name: NOT_RIGHT_OF_WAY_I, dtype: int64\n",
      "-------------------------------------------------------\n",
      "0    329425\n",
      "1    126778\n",
      "Name: HIT_AND_RUN_I, dtype: int64\n",
      "-------------------------------------------------------\n",
      "OVER $1,500      262125\n",
      "$501 - $1,500    134560\n",
      "$500 OR LESS      59518\n",
      "Name: DAMAGE, dtype: int64\n",
      "-------------------------------------------------------\n",
      "UNABLE TO DETERMINE                                                                 167679\n",
      "FAILING TO YIELD RIGHT-OF-WAY                                                        50658\n",
      "FOLLOWING TOO CLOSELY                                                                49112\n",
      "NOT APPLICABLE                                                                       24542\n",
      "IMPROPER OVERTAKING/PASSING                                                          21793\n",
      "IMPROPER BACKING                                                                     20172\n",
      "FAILING TO REDUCE SPEED TO AVOID CRASH                                               19595\n",
      "IMPROPER LANE USAGE                                                                  17848\n",
      "IMPROPER TURNING/NO SIGNAL                                                           15263\n",
      "DRIVING SKILLS/KNOWLEDGE/EXPERIENCE                                                  14222\n",
      "DISREGARDING TRAFFIC SIGNALS                                                          8156\n",
      "WEATHER                                                                               7090\n",
      "OPERATING VEHICLE IN ERRATIC, RECKLESS, CARELESS, NEGLIGENT OR AGGRESSIVE MANNER      5646\n",
      "DISREGARDING STOP SIGN                                                                5036\n",
      "DISTRACTION - FROM INSIDE VEHICLE                                                     3358\n",
      "EQUIPMENT - VEHICLE CONDITION                                                         2802\n",
      "VISION OBSCURED (SIGNS, TREE LIMBS, BUILDINGS, ETC.)                                  2667\n",
      "PHYSICAL CONDITION OF DRIVER                                                          2655\n",
      "UNDER THE INFLUENCE OF ALCOHOL/DRUGS (USE WHEN ARREST IS EFFECTED)                    2418\n",
      "DRIVING ON WRONG SIDE/WRONG WAY                                                       2126\n",
      "DISTRACTION - FROM OUTSIDE VEHICLE                                                    2035\n",
      "EXCEEDING AUTHORIZED SPEED LIMIT                                                      1967\n",
      "EXCEEDING SAFE SPEED FOR CONDITIONS                                                   1674\n",
      "ROAD ENGINEERING/SURFACE/MARKING DEFECTS                                              1330\n",
      "ROAD CONSTRUCTION/MAINTENANCE                                                         1143\n",
      "DISREGARDING OTHER TRAFFIC SIGNS                                                       962\n",
      "EVASIVE ACTION DUE TO ANIMAL, OBJECT, NONMOTORIST                                      838\n",
      "CELL PHONE USE OTHER THAN TEXTING                                                      645\n",
      "DISREGARDING ROAD MARKINGS                                                             627\n",
      "HAD BEEN DRINKING (USE WHEN ARREST IS NOT MADE)                                        511\n",
      "ANIMAL                                                                                 398\n",
      "TURNING RIGHT ON RED                                                                   317\n",
      "DISTRACTION - OTHER ELECTRONIC DEVICE (NAVIGATION DEVICE, DVD PLAYER, ETC.)            221\n",
      "TEXTING                                                                                206\n",
      "DISREGARDING YIELD SIGN                                                                176\n",
      "RELATED TO BUS STOP                                                                    145\n",
      "BICYCLE ADVANCING LEGALLY ON RED LIGHT                                                  63\n",
      "PASSING STOPPED SCHOOL BUS                                                              61\n",
      "OBSTRUCTED CROSSWALKS                                                                   27\n",
      "MOTORCYCLE ADVANCING LEGALLY ON RED LIGHT                                               19\n",
      "Name: PRIM_CONTRIBUTORY_CAUSE, dtype: int64\n",
      "-------------------------------------------------------\n",
      "NOT APPLICABLE                                                                      184424\n",
      "UNABLE TO DETERMINE                                                                 162790\n",
      "FAILING TO REDUCE SPEED TO AVOID CRASH                                               19100\n",
      "DRIVING SKILLS/KNOWLEDGE/EXPERIENCE                                                  14265\n",
      "FAILING TO YIELD RIGHT-OF-WAY                                                        13843\n",
      "FOLLOWING TOO CLOSELY                                                                12670\n",
      "IMPROPER OVERTAKING/PASSING                                                           6782\n",
      "IMPROPER LANE USAGE                                                                   6639\n",
      "WEATHER                                                                               5572\n",
      "IMPROPER TURNING/NO SIGNAL                                                            4561\n",
      "IMPROPER BACKING                                                                      3984\n",
      "OPERATING VEHICLE IN ERRATIC, RECKLESS, CARELESS, NEGLIGENT OR AGGRESSIVE MANNER      3080\n",
      "DISREGARDING TRAFFIC SIGNALS                                                          1719\n",
      "VISION OBSCURED (SIGNS, TREE LIMBS, BUILDINGS, ETC.)                                  1569\n",
      "DISTRACTION - FROM INSIDE VEHICLE                                                     1473\n",
      "EXCEEDING AUTHORIZED SPEED LIMIT                                                      1460\n",
      "EXCEEDING SAFE SPEED FOR CONDITIONS                                                   1435\n",
      "PHYSICAL CONDITION OF DRIVER                                                          1414\n",
      "DISREGARDING STOP SIGN                                                                1355\n",
      "EQUIPMENT - VEHICLE CONDITION                                                          921\n",
      "DISTRACTION - FROM OUTSIDE VEHICLE                                                     841\n",
      "DRIVING ON WRONG SIDE/WRONG WAY                                                        827\n",
      "UNDER THE INFLUENCE OF ALCOHOL/DRUGS (USE WHEN ARREST IS EFFECTED)                     775\n",
      "HAD BEEN DRINKING (USE WHEN ARREST IS NOT MADE)                                        632\n",
      "ROAD CONSTRUCTION/MAINTENANCE                                                          616\n",
      "ROAD ENGINEERING/SURFACE/MARKING DEFECTS                                               518\n",
      "DISREGARDING ROAD MARKINGS                                                             498\n",
      "DISREGARDING OTHER TRAFFIC SIGNS                                                       487\n",
      "CELL PHONE USE OTHER THAN TEXTING                                                      381\n",
      "EVASIVE ACTION DUE TO ANIMAL, OBJECT, NONMOTORIST                                      255\n",
      "ANIMAL                                                                                 232\n",
      "BICYCLE ADVANCING LEGALLY ON RED LIGHT                                                 211\n",
      "TURNING RIGHT ON RED                                                                   174\n",
      "RELATED TO BUS STOP                                                                    168\n",
      "DISTRACTION - OTHER ELECTRONIC DEVICE (NAVIGATION DEVICE, DVD PLAYER, ETC.)            150\n",
      "DISREGARDING YIELD SIGN                                                                133\n",
      "TEXTING                                                                                 95\n",
      "PASSING STOPPED SCHOOL BUS                                                              63\n",
      "MOTORCYCLE ADVANCING LEGALLY ON RED LIGHT                                               47\n",
      "OBSTRUCTED CROSSWALKS                                                                   44\n",
      "Name: SEC_CONTRIBUTORY_CAUSE, dtype: int64\n",
      "-------------------------------------------------------\n",
      "0    455156\n",
      "1      1047\n",
      "Name: DOORING_I, dtype: int64\n",
      "-------------------------------------------------------\n",
      "0    453811\n",
      "1      2392\n",
      "Name: WORK_ZONE_I, dtype: int64\n",
      "-------------------------------------------------------\n",
      "0    455562\n",
      "1       641\n",
      "Name: WORKERS_PRESENT_I, dtype: int64\n",
      "-------------------------------------------------------\n",
      "2     402055\n",
      "3      24138\n",
      "1      23936\n",
      "4       4508\n",
      "5       1058\n",
      "6        312\n",
      "7        112\n",
      "8         39\n",
      "9         24\n",
      "10        10\n",
      "11         5\n",
      "12         2\n",
      "18         1\n",
      "16         1\n",
      "15         1\n",
      "14         1\n",
      "Name: NUM_UNITS, dtype: int64\n",
      "-------------------------------------------------------\n"
     ]
    },
    {
     "name": "stdout",
     "output_type": "stream",
     "text": [
      "NO INDICATION OF INJURY     397759\n",
      "NONINCAPACITATING INJURY     32332\n",
      "REPORTED, NOT EVIDENT        18254\n",
      "INCAPACITATING INJURY         7420\n",
      "FATAL                          438\n",
      "Name: MOST_SEVERE_INJURY, dtype: int64\n",
      "-------------------------------------------------------\n",
      "16    34957\n",
      "15    34759\n",
      "17    34434\n",
      "14    30871\n",
      "18    28417\n",
      "13    28032\n",
      "12    26995\n",
      "8     24718\n",
      "11    23240\n",
      "9     21493\n",
      "10    20994\n",
      "19    20759\n",
      "7     20016\n",
      "20    16367\n",
      "21    14621\n",
      "22    13515\n",
      "23    11279\n",
      "6     10353\n",
      "0      9130\n",
      "1      7705\n",
      "2      6723\n",
      "5      6250\n",
      "3      5491\n",
      "4      5084\n",
      "Name: CRASH_HOUR, dtype: int64\n",
      "-------------------------------------------------------\n",
      "6    74214\n",
      "7    67286\n",
      "3    65587\n",
      "5    65572\n",
      "4    64984\n",
      "2    63389\n",
      "1    55171\n",
      "Name: CRASH_DAY_OF_WEEK, dtype: int64\n",
      "-------------------------------------------------------\n",
      "10    46247\n",
      "9     43025\n",
      "11    42009\n",
      "8     41698\n",
      "7     39936\n",
      "6     37787\n",
      "12    36812\n",
      "5     36725\n",
      "1     34254\n",
      "3     33589\n",
      "2     32819\n",
      "4     31302\n",
      "Name: CRASH_MONTH, dtype: int64\n",
      "-------------------------------------------------------\n",
      "41.976201    589\n",
      "41.791420    309\n",
      "41.751461    305\n",
      "41.722257    251\n",
      "41.754660    210\n",
      "            ... \n",
      "41.919748      1\n",
      "41.887049      1\n",
      "41.908035      1\n",
      "41.914494      1\n",
      "41.763714      1\n",
      "Name: LATITUDE, Length: 202891, dtype: int64\n",
      "-------------------------------------------------------\n",
      "-87.905309    589\n",
      "-87.580148    309\n",
      "-87.585972    305\n",
      "-87.585276    251\n",
      "-87.741385    210\n",
      "             ... \n",
      "-87.794186      1\n",
      "-87.691835      1\n",
      "-87.667172      1\n",
      "-87.635795      1\n",
      "-87.766336      1\n",
      "Name: LONGITUDE, Length: 202877, dtype: int64\n",
      "-------------------------------------------------------\n",
      "POINT (-87.905309125103 41.976201139024)    589\n",
      "POINT (-87.580147768689 41.791420282098)    309\n",
      "POINT (-87.585971992965 41.751460603167)    305\n",
      "POINT (-87.585275565077 41.722257273006)    251\n",
      "POINT (-87.741384758605 41.754660124394)    210\n",
      "                                           ... \n",
      "POINT (-87.672625930249 41.875770280108)      1\n",
      "POINT (-87.706491388848 41.89908781531)       1\n",
      "POINT (-87.730504658945 41.838543849343)      1\n",
      "POINT (-87.685347626126 41.743881982327)      1\n",
      "POINT (-87.674058968464 41.915143508849)      1\n",
      "Name: LOCATION, Length: 202976, dtype: int64\n",
      "-------------------------------------------------------\n"
     ]
    }
   ],
   "source": [
    "for col in df.columns:\n",
    "    if df[col].notnull().any():\n",
    "        print(df[col].value_counts())\n",
    "        print(\"-------------------------------------------------------\")"
   ]
  },
  {
   "cell_type": "markdown",
   "metadata": {},
   "source": [
    "#### Inspect entries of each column"
   ]
  },
  {
   "cell_type": "markdown",
   "metadata": {},
   "source": [
    "Most of these are categorical variables and some of them have over 10 categories . We will try to lower the number of categories for each column(variable) by consolidating overlapping aspects or getting rid of irrelevant categories."
   ]
  },
  {
   "cell_type": "code",
   "execution_count": 18,
   "metadata": {
    "ExecuteTime": {
     "end_time": "2021-06-30T20:02:36.431628Z",
     "start_time": "2021-06-30T20:02:36.403639Z"
    }
   },
   "outputs": [],
   "source": [
    "#Track speedlimit values that are not multiples of 5\n",
    "wierd_speed_limit=[]\n",
    "for x in (df['POSTED_SPEED_LIMIT'].unique()):\n",
    "    if (x%5!=0):\n",
    "        wierd_speed_limit.append(int(x))\n"
   ]
  },
  {
   "cell_type": "code",
   "execution_count": 19,
   "metadata": {
    "ExecuteTime": {
     "end_time": "2021-06-30T20:02:36.478612Z",
     "start_time": "2021-06-30T20:02:36.437626Z"
    }
   },
   "outputs": [
    {
     "data": {
      "text/plain": [
       "[1,\n",
       " 2,\n",
       " 3,\n",
       " 4,\n",
       " 6,\n",
       " 7,\n",
       " 9,\n",
       " 11,\n",
       " 12,\n",
       " 14,\n",
       " 16,\n",
       " 18,\n",
       " 22,\n",
       " 23,\n",
       " 24,\n",
       " 26,\n",
       " 29,\n",
       " 31,\n",
       " 32,\n",
       " 33,\n",
       " 34,\n",
       " 36,\n",
       " 38,\n",
       " 39,\n",
       " 49,\n",
       " 63,\n",
       " 99]"
      ]
     },
     "execution_count": 19,
     "metadata": {},
     "output_type": "execute_result"
    }
   ],
   "source": [
    "#View speed limit values that are not multiple of 5\n",
    "# speedlist=df['POSTED_SPEED_LIMIT'].unique()\n",
    "wierd_speed_limit.sort()\n",
    "wierd_speed_limit"
   ]
  },
  {
   "cell_type": "markdown",
   "metadata": {},
   "source": [
    "According to chicago dmv regulations speedlimit has to be a multiple of 5 "
   ]
  },
  {
   "cell_type": "code",
   "execution_count": 20,
   "metadata": {
    "ExecuteTime": {
     "end_time": "2021-06-30T20:02:43.663471Z",
     "start_time": "2021-06-30T20:02:36.481611Z"
    }
   },
   "outputs": [],
   "source": [
    "#Drop speed limit values that do not make sense\n",
    "for speed_limit in wierd_speed_limit:\n",
    "    df.drop(index=df[df['POSTED_SPEED_LIMIT'] == speed_limit].index, inplace=True)"
   ]
  },
  {
   "cell_type": "code",
   "execution_count": 21,
   "metadata": {
    "ExecuteTime": {
     "end_time": "2021-06-30T20:02:43.694897Z",
     "start_time": "2021-06-30T20:02:43.663471Z"
    }
   },
   "outputs": [
    {
     "data": {
      "text/plain": [
       "30    336561\n",
       "35     31528\n",
       "25     27573\n",
       "20     17432\n",
       "15     15765\n",
       "10      9398\n",
       "0       6690\n",
       "40      4142\n",
       "5       3544\n",
       "45      2638\n",
       "55       353\n",
       "50        90\n",
       "60        23\n",
       "65        10\n",
       "70         3\n",
       "Name: POSTED_SPEED_LIMIT, dtype: int64"
      ]
     },
     "execution_count": 21,
     "metadata": {},
     "output_type": "execute_result"
    }
   ],
   "source": [
    "df['POSTED_SPEED_LIMIT'].value_counts()"
   ]
  },
  {
   "cell_type": "markdown",
   "metadata": {},
   "source": [
    "Considering most of Chicago is urban We are mostly dealing with Urbany speed limits of 35 or less. So we will consolidate the speeds above 50 as there are very fee entires with speed limit of above 50 "
   ]
  },
  {
   "cell_type": "code",
   "execution_count": 22,
   "metadata": {
    "ExecuteTime": {
     "end_time": "2021-06-30T20:02:43.726886Z",
     "start_time": "2021-06-30T20:02:43.698891Z"
    },
    "scrolled": true
   },
   "outputs": [],
   "source": [
    "# Consolidate highway speed limit values \n",
    "df.loc[((df['POSTED_SPEED_LIMIT'] > 50)),'POSTED_SPEED_LIMIT' ]= 50"
   ]
  },
  {
   "cell_type": "code",
   "execution_count": 23,
   "metadata": {
    "ExecuteTime": {
     "end_time": "2021-06-30T20:02:43.757872Z",
     "start_time": "2021-06-30T20:02:43.737878Z"
    }
   },
   "outputs": [
    {
     "data": {
      "text/plain": [
       "30    336561\n",
       "35     31528\n",
       "25     27573\n",
       "20     17432\n",
       "15     15765\n",
       "10      9398\n",
       "0       6690\n",
       "40      4142\n",
       "5       3544\n",
       "45      2638\n",
       "50       479\n",
       "Name: POSTED_SPEED_LIMIT, dtype: int64"
      ]
     },
     "execution_count": 23,
     "metadata": {},
     "output_type": "execute_result"
    }
   ],
   "source": [
    "df['POSTED_SPEED_LIMIT'].value_counts()"
   ]
  },
  {
   "cell_type": "markdown",
   "metadata": {},
   "source": [
    "For the entries in TRAFFIC_CONTROL_DEVICE it seems like the majority of incidents had no controls and the rest were either some sort of sign or a signal. These can be easily converted to a categorical variable . Although there are about 7000 entries that are unknown or other which makes no sense . We will look at these entries is more detail."
   ]
  },
  {
   "cell_type": "code",
   "execution_count": 24,
   "metadata": {
    "ExecuteTime": {
     "end_time": "2021-06-30T20:02:43.869349Z",
     "start_time": "2021-06-30T20:02:43.766868Z"
    }
   },
   "outputs": [],
   "source": [
    "#Replace Unknown/other entries as no controls \n",
    "df.loc[df['DEVICE_CONDITION'] == \"NO CONTROLS\", 'TRAFFIC_CONTROL_DEVICE'] = \"NO CONTROLS\""
   ]
  },
  {
   "cell_type": "code",
   "execution_count": 25,
   "metadata": {
    "ExecuteTime": {
     "end_time": "2021-06-30T20:02:43.964328Z",
     "start_time": "2021-06-30T20:02:43.873344Z"
    }
   },
   "outputs": [],
   "source": [
    "#Look at unknown traffic control device entries\n",
    "df_control_device_unknown = df[df['TRAFFIC_CONTROL_DEVICE']=='UNKNOWN']\n"
   ]
  },
  {
   "cell_type": "code",
   "execution_count": 26,
   "metadata": {
    "ExecuteTime": {
     "end_time": "2021-06-30T20:02:44.138336Z",
     "start_time": "2021-06-30T20:02:43.968325Z"
    }
   },
   "outputs": [
    {
     "name": "stdout",
     "output_type": "stream",
     "text": [
      "30    11053\n",
      "35     1021\n",
      "25      630\n",
      "20      455\n",
      "15      257\n",
      "10      186\n",
      "0       165\n",
      "40       96\n",
      "5        60\n",
      "45       40\n",
      "50       17\n",
      "Name: POSTED_SPEED_LIMIT, dtype: int64\n",
      "-------------------------------------------------------\n",
      "UNKNOWN    13980\n",
      "Name: TRAFFIC_CONTROL_DEVICE, dtype: int64\n",
      "-------------------------------------------------------\n",
      "UNKNOWN                     13552\n",
      "FUNCTIONING PROPERLY          305\n",
      "OTHER                          93\n",
      "FUNCTIONING IMPROPERLY         22\n",
      "NOT FUNCTIONING                 7\n",
      "WORN REFLECTIVE MATERIAL        1\n",
      "Name: DEVICE_CONDITION, dtype: int64\n",
      "-------------------------------------------------------\n",
      "CLEAR                    7270\n",
      "UNKNOWN                  5137\n",
      "RAIN                      878\n",
      "SNOW                      395\n",
      "CLOUDY/OVERCAST           219\n",
      "OTHER                      44\n",
      "SLEET/HAIL                 17\n",
      "FOG/SMOKE/HAZE             12\n",
      "FREEZING RAIN/DRIZZLE       6\n",
      "BLOWING SNOW                2\n",
      "Name: WEATHER_CONDITION, dtype: int64\n",
      "-------------------------------------------------------\n",
      "DAYLIGHT                  6030\n",
      "UNKNOWN                   4363\n",
      "DARKNESS, LIGHTED ROAD    2116\n",
      "DARKNESS                   756\n",
      "DUSK                       516\n",
      "DAWN                       199\n",
      "Name: LIGHTING_CONDITION, dtype: int64\n",
      "-------------------------------------------------------\n",
      "PARKED MOTOR VEHICLE            3721\n",
      "REAR END                        3419\n",
      "SIDESWIPE SAME DIRECTION        2503\n",
      "TURNING                         1294\n",
      "ANGLE                           1029\n",
      "FIXED OBJECT                     619\n",
      "PEDESTRIAN                       385\n",
      "SIDESWIPE OPPOSITE DIRECTION     230\n",
      "PEDALCYCLIST                     223\n",
      "OTHER OBJECT                     178\n",
      "HEAD ON                          123\n",
      "REAR TO FRONT                     98\n",
      "OTHER NONCOLLISION                72\n",
      "REAR TO SIDE                      45\n",
      "REAR TO REAR                      16\n",
      "ANIMAL                            13\n",
      "OVERTURNED                        12\n",
      "Name: FIRST_CRASH_TYPE, dtype: int64\n",
      "-------------------------------------------------------\n",
      "NOT DIVIDED                        5929\n",
      "UNKNOWN                            2353\n",
      "DIVIDED - W/MEDIAN (NOT RAISED)    1757\n",
      "ONE-WAY                            1581\n",
      "PARKING LOT                         846\n",
      "DIVIDED - W/MEDIAN BARRIER          456\n",
      "OTHER                               359\n",
      "FOUR WAY                            182\n",
      "ALLEY                               145\n",
      "CENTER TURN LANE                    125\n",
      "UNKNOWN INTERSECTION TYPE            95\n",
      "T-INTERSECTION                       55\n",
      "DRIVEWAY                             46\n",
      "RAMP                                 37\n",
      "Y-INTERSECTION                        6\n",
      "TRAFFIC ROUTE                         3\n",
      "FIVE POINT, OR MORE                   3\n",
      "ROUNDABOUT                            1\n",
      "NOT REPORTED                          1\n",
      "Name: TRAFFICWAY_TYPE, dtype: int64\n",
      "-------------------------------------------------------\n",
      "STRAIGHT AND LEVEL       13763\n",
      "STRAIGHT ON GRADE           97\n",
      "CURVE, LEVEL                76\n",
      "STRAIGHT ON HILLCREST       26\n",
      "CURVE ON GRADE              13\n",
      "CURVE ON HILLCREST           5\n",
      "Name: ALIGNMENT, dtype: int64\n",
      "-------------------------------------------------------\n",
      "UNKNOWN            6221\n",
      "DRY                6161\n",
      "WET                1139\n",
      "SNOW OR SLUSH       364\n",
      "OTHER                50\n",
      "ICE                  41\n",
      "SAND, MUD, DIRT       4\n",
      "Name: ROADWAY_SURFACE_COND, dtype: int64\n",
      "-------------------------------------------------------\n",
      "UNKNOWN              9843\n",
      "NO DEFECTS           3874\n",
      "RUT, HOLES            159\n",
      "OTHER                  64\n",
      "WORN SURFACE           16\n",
      "SHOULDER DEFECT        12\n",
      "DEBRIS ON ROADWAY      12\n",
      "Name: ROAD_DEFECT, dtype: int64\n",
      "-------------------------------------------------------\n",
      "NO INJURY / DRIVE AWAY              11794\n",
      "INJURY AND / OR TOW DUE TO CRASH     2186\n",
      "Name: CRASH_TYPE, dtype: int64\n",
      "-------------------------------------------------------\n",
      "0    12496\n",
      "1     1484\n",
      "Name: INTERSECTION_RELATED_I, dtype: int64\n",
      "-------------------------------------------------------\n",
      "0    13578\n",
      "1      402\n",
      "Name: NOT_RIGHT_OF_WAY_I, dtype: int64\n",
      "-------------------------------------------------------\n",
      "0    9100\n",
      "1    4880\n",
      "Name: HIT_AND_RUN_I, dtype: int64\n",
      "-------------------------------------------------------\n",
      "OVER $1,500      7969\n",
      "$501 - $1,500    4052\n",
      "$500 OR LESS     1959\n",
      "Name: DAMAGE, dtype: int64\n",
      "-------------------------------------------------------\n",
      "UNABLE TO DETERMINE                                                                 7858\n",
      "NOT APPLICABLE                                                                      1590\n",
      "FOLLOWING TOO CLOSELY                                                                911\n",
      "FAILING TO YIELD RIGHT-OF-WAY                                                        725\n",
      "IMPROPER OVERTAKING/PASSING                                                          513\n",
      "IMPROPER BACKING                                                                     388\n",
      "FAILING TO REDUCE SPEED TO AVOID CRASH                                               347\n",
      "IMPROPER LANE USAGE                                                                  297\n",
      "IMPROPER TURNING/NO SIGNAL                                                           289\n",
      "DRIVING SKILLS/KNOWLEDGE/EXPERIENCE                                                  270\n",
      "OPERATING VEHICLE IN ERRATIC, RECKLESS, CARELESS, NEGLIGENT OR AGGRESSIVE MANNER     127\n",
      "WEATHER                                                                              113\n",
      "UNDER THE INFLUENCE OF ALCOHOL/DRUGS (USE WHEN ARREST IS EFFECTED)                    57\n",
      "EXCEEDING AUTHORIZED SPEED LIMIT                                                      46\n",
      "PHYSICAL CONDITION OF DRIVER                                                          45\n",
      "ROAD ENGINEERING/SURFACE/MARKING DEFECTS                                              44\n",
      "DRIVING ON WRONG SIDE/WRONG WAY                                                       43\n",
      "DISTRACTION - FROM INSIDE VEHICLE                                                     43\n",
      "DISREGARDING TRAFFIC SIGNALS                                                          37\n",
      "EQUIPMENT - VEHICLE CONDITION                                                         32\n",
      "DISTRACTION - FROM OUTSIDE VEHICLE                                                    28\n",
      "ROAD CONSTRUCTION/MAINTENANCE                                                         26\n",
      "VISION OBSCURED (SIGNS, TREE LIMBS, BUILDINGS, ETC.)                                  24\n",
      "EXCEEDING SAFE SPEED FOR CONDITIONS                                                   21\n",
      "DISREGARDING STOP SIGN                                                                17\n",
      "EVASIVE ACTION DUE TO ANIMAL, OBJECT, NONMOTORIST                                     14\n",
      "HAD BEEN DRINKING (USE WHEN ARREST IS NOT MADE)                                       12\n",
      "ANIMAL                                                                                11\n",
      "DISREGARDING OTHER TRAFFIC SIGNS                                                      10\n",
      "CELL PHONE USE OTHER THAN TEXTING                                                     10\n",
      "DISREGARDING ROAD MARKINGS                                                             6\n",
      "TEXTING                                                                                6\n",
      "RELATED TO BUS STOP                                                                    5\n",
      "DISREGARDING YIELD SIGN                                                                5\n",
      "DISTRACTION - OTHER ELECTRONIC DEVICE (NAVIGATION DEVICE, DVD PLAYER, ETC.)            3\n",
      "TURNING RIGHT ON RED                                                                   3\n",
      "PASSING STOPPED SCHOOL BUS                                                             2\n",
      "MOTORCYCLE ADVANCING LEGALLY ON RED LIGHT                                              1\n",
      "BICYCLE ADVANCING LEGALLY ON RED LIGHT                                                 1\n",
      "Name: PRIM_CONTRIBUTORY_CAUSE, dtype: int64\n",
      "-------------------------------------------------------\n",
      "NOT APPLICABLE                                                                      7259\n",
      "UNABLE TO DETERMINE                                                                 4673\n",
      "FOLLOWING TOO CLOSELY                                                                386\n",
      "FAILING TO YIELD RIGHT-OF-WAY                                                        352\n",
      "DRIVING SKILLS/KNOWLEDGE/EXPERIENCE                                                  255\n",
      "FAILING TO REDUCE SPEED TO AVOID CRASH                                               197\n",
      "IMPROPER OVERTAKING/PASSING                                                          153\n",
      "IMPROPER LANE USAGE                                                                  139\n",
      "IMPROPER BACKING                                                                     113\n",
      "IMPROPER TURNING/NO SIGNAL                                                            92\n",
      "WEATHER                                                                               60\n",
      "OPERATING VEHICLE IN ERRATIC, RECKLESS, CARELESS, NEGLIGENT OR AGGRESSIVE MANNER      54\n",
      "EXCEEDING AUTHORIZED SPEED LIMIT                                                      29\n",
      "UNDER THE INFLUENCE OF ALCOHOL/DRUGS (USE WHEN ARREST IS EFFECTED)                    22\n",
      "PHYSICAL CONDITION OF DRIVER                                                          21\n",
      "DRIVING ON WRONG SIDE/WRONG WAY                                                       21\n",
      "ROAD CONSTRUCTION/MAINTENANCE                                                         17\n",
      "EXCEEDING SAFE SPEED FOR CONDITIONS                                                   16\n",
      "DISTRACTION - FROM OUTSIDE VEHICLE                                                    15\n",
      "ROAD ENGINEERING/SURFACE/MARKING DEFECTS                                              15\n",
      "DISREGARDING TRAFFIC SIGNALS                                                          14\n",
      "DISTRACTION - FROM INSIDE VEHICLE                                                     14\n",
      "HAD BEEN DRINKING (USE WHEN ARREST IS NOT MADE)                                       10\n",
      "VISION OBSCURED (SIGNS, TREE LIMBS, BUILDINGS, ETC.)                                  10\n",
      "BICYCLE ADVANCING LEGALLY ON RED LIGHT                                                 8\n",
      "ANIMAL                                                                                 6\n",
      "EQUIPMENT - VEHICLE CONDITION                                                          5\n",
      "DISREGARDING STOP SIGN                                                                 4\n",
      "DISREGARDING OTHER TRAFFIC SIGNS                                                       4\n",
      "RELATED TO BUS STOP                                                                    4\n",
      "EVASIVE ACTION DUE TO ANIMAL, OBJECT, NONMOTORIST                                      3\n",
      "DISREGARDING ROAD MARKINGS                                                             3\n",
      "DISREGARDING YIELD SIGN                                                                2\n",
      "TURNING RIGHT ON RED                                                                   2\n",
      "CELL PHONE USE OTHER THAN TEXTING                                                      1\n",
      "TEXTING                                                                                1\n",
      "Name: SEC_CONTRIBUTORY_CAUSE, dtype: int64\n",
      "-------------------------------------------------------\n",
      "0    13939\n",
      "1       41\n",
      "Name: DOORING_I, dtype: int64\n",
      "-------------------------------------------------------\n",
      "0    13899\n",
      "1       81\n",
      "Name: WORK_ZONE_I, dtype: int64\n",
      "-------------------------------------------------------\n",
      "0    13965\n",
      "1       15\n",
      "Name: WORKERS_PRESENT_I, dtype: int64\n",
      "-------------------------------------------------------\n",
      "2     12579\n",
      "1       762\n",
      "3       529\n",
      "4        82\n",
      "5        18\n",
      "6         5\n",
      "7         3\n",
      "11        1\n",
      "8         1\n",
      "Name: NUM_UNITS, dtype: int64\n",
      "-------------------------------------------------------\n",
      "NO INDICATION OF INJURY     12742\n",
      "NONINCAPACITATING INJURY      676\n",
      "REPORTED, NOT EVIDENT         403\n",
      "INCAPACITATING INJURY         151\n",
      "FATAL                           8\n",
      "Name: MOST_SEVERE_INJURY, dtype: int64\n",
      "-------------------------------------------------------\n",
      "16    1191\n",
      "17    1155\n",
      "15    1090\n",
      "14    1084\n",
      "18     967\n",
      "13     908\n",
      "12     801\n",
      "19     698\n",
      "20     591\n",
      "21     576\n",
      "8      524\n",
      "22     524\n",
      "11     479\n",
      "10     457\n",
      "9      430\n",
      "23     426\n",
      "7      424\n",
      "0      320\n",
      "1      318\n",
      "6      246\n",
      "2      242\n",
      "3      182\n",
      "4      177\n",
      "5      170\n",
      "Name: CRASH_HOUR, dtype: int64\n",
      "-------------------------------------------------------\n",
      "6    2352\n",
      "7    2138\n",
      "3    2018\n",
      "4    1934\n",
      "5    1872\n",
      "2    1839\n",
      "1    1827\n",
      "Name: CRASH_DAY_OF_WEEK, dtype: int64\n",
      "-------------------------------------------------------\n",
      "10    1419\n",
      "8     1329\n",
      "7     1278\n",
      "12    1277\n",
      "9     1238\n",
      "11    1219\n",
      "6     1173\n",
      "5     1092\n",
      "1     1068\n",
      "3     1026\n",
      "2      993\n",
      "4      868\n",
      "Name: CRASH_MONTH, dtype: int64\n",
      "-------------------------------------------------------\n",
      "41.976201    19\n",
      "41.751461    10\n",
      "41.791420    10\n",
      "41.773439     9\n",
      "41.779372     9\n",
      "             ..\n",
      "41.923738     1\n",
      "41.704951     1\n",
      "41.765103     1\n",
      "41.921434     1\n",
      "41.901424     1\n",
      "Name: LATITUDE, Length: 12402, dtype: int64\n",
      "-------------------------------------------------------\n",
      "-87.905309    19\n",
      "-87.580148    10\n",
      "-87.585972    10\n",
      "-87.566899     9\n",
      "-87.664365     9\n",
      "              ..\n",
      "-87.686111     1\n",
      "-87.666754     1\n",
      "-87.781323     1\n",
      "-87.621570     1\n",
      "-87.685597     1\n",
      "Name: LONGITUDE, Length: 12403, dtype: int64\n",
      "-------------------------------------------------------\n",
      "POINT (-87.905309125103 41.976201139024)    19\n",
      "POINT (-87.585971992965 41.751460603167)    10\n",
      "POINT (-87.580147768689 41.791420282098)    10\n",
      "POINT (-87.566899305833 41.773438566009)     9\n",
      "POINT (-87.664365347416 41.779372220485)     9\n",
      "                                            ..\n",
      "POINT (-87.596961357585 41.655706367495)     1\n",
      "POINT (-87.72489554232 41.851158217386)      1\n",
      "POINT (-87.703875409947 41.778144862553)     1\n",
      "POINT (-87.566489110531 41.757531624196)     1\n",
      "POINT (-87.611990900879 41.847425210092)     1\n",
      "Name: LOCATION, Length: 12403, dtype: int64\n",
      "-------------------------------------------------------\n"
     ]
    }
   ],
   "source": [
    "# Look at feature value counts of all accidents that have 'unknown' traffic control device\n",
    "for col in df_control_device_unknown.columns:\n",
    "    print(df_control_device_unknown[col].value_counts())\n",
    "    print(\"-------------------------------------------------------\")"
   ]
  },
  {
   "cell_type": "markdown",
   "metadata": {},
   "source": [
    "It is unclear what the unknown traffic control device means . It looks like a mix of instances where the traffic control device was not reported or the condition was unknown or perhaps there wasnt one or the office on duty coudnt find one in the vicinity. Its impossible to distinguish between these instances as we do not have any data indicating any of these instances. Perhaps there are other instances as well that i cant think of. "
   ]
  },
  {
   "cell_type": "code",
   "execution_count": 27,
   "metadata": {
    "ExecuteTime": {
     "end_time": "2021-06-30T20:02:44.202328Z",
     "start_time": "2021-06-30T20:02:44.141334Z"
    }
   },
   "outputs": [],
   "source": [
    "#Look at 'OTHER' traffic control device entries\n",
    "df_control_device_other = df[df['TRAFFIC_CONTROL_DEVICE']=='OTHER']\n"
   ]
  },
  {
   "cell_type": "code",
   "execution_count": 28,
   "metadata": {
    "ExecuteTime": {
     "end_time": "2021-06-30T20:02:44.314289Z",
     "start_time": "2021-06-30T20:02:44.205324Z"
    }
   },
   "outputs": [
    {
     "name": "stdout",
     "output_type": "stream",
     "text": [
      "30    1489\n",
      "35     127\n",
      "25     126\n",
      "15     123\n",
      "10      83\n",
      "20      71\n",
      "5       65\n",
      "0       40\n",
      "40      33\n",
      "45      21\n",
      "50       8\n",
      "Name: POSTED_SPEED_LIMIT, dtype: int64\n",
      "-------------------------------------------------------\n",
      "OTHER    2186\n",
      "Name: TRAFFIC_CONTROL_DEVICE, dtype: int64\n",
      "-------------------------------------------------------\n",
      "OTHER                       1224\n",
      "FUNCTIONING PROPERLY         739\n",
      "UNKNOWN                      179\n",
      "FUNCTIONING IMPROPERLY        28\n",
      "NOT FUNCTIONING                8\n",
      "WORN REFLECTIVE MATERIAL       7\n",
      "MISSING                        1\n",
      "Name: DEVICE_CONDITION, dtype: int64\n",
      "-------------------------------------------------------\n",
      "CLEAR                     1668\n",
      "RAIN                       201\n",
      "CLOUDY/OVERCAST            109\n",
      "UNKNOWN                     89\n",
      "SNOW                        63\n",
      "OTHER                       43\n",
      "FOG/SMOKE/HAZE               5\n",
      "SLEET/HAIL                   4\n",
      "FREEZING RAIN/DRIZZLE        3\n",
      "SEVERE CROSS WIND GATE       1\n",
      "Name: WEATHER_CONDITION, dtype: int64\n",
      "-------------------------------------------------------\n",
      "DAYLIGHT                  1432\n",
      "DARKNESS, LIGHTED ROAD     465\n",
      "DARKNESS                   127\n",
      "UNKNOWN                     69\n",
      "DUSK                        54\n",
      "DAWN                        39\n",
      "Name: LIGHTING_CONDITION, dtype: int64\n",
      "-------------------------------------------------------\n",
      "PARKED MOTOR VEHICLE            456\n",
      "REAR END                        446\n",
      "SIDESWIPE SAME DIRECTION        427\n",
      "FIXED OBJECT                    238\n",
      "TURNING                         177\n",
      "ANGLE                           154\n",
      "PEDESTRIAN                       76\n",
      "OTHER OBJECT                     54\n",
      "PEDALCYCLIST                     48\n",
      "REAR TO FRONT                    29\n",
      "SIDESWIPE OPPOSITE DIRECTION     26\n",
      "HEAD ON                          25\n",
      "OTHER NONCOLLISION               14\n",
      "REAR TO SIDE                      9\n",
      "REAR TO REAR                      3\n",
      "OVERTURNED                        2\n",
      "TRAIN                             1\n",
      "ANIMAL                            1\n",
      "Name: FIRST_CRASH_TYPE, dtype: int64\n",
      "-------------------------------------------------------\n",
      "NOT DIVIDED                        600\n",
      "DIVIDED - W/MEDIAN (NOT RAISED)    435\n",
      "ONE-WAY                            277\n",
      "PARKING LOT                        271\n",
      "OTHER                              240\n",
      "DIVIDED - W/MEDIAN BARRIER         213\n",
      "ALLEY                               44\n",
      "RAMP                                22\n",
      "UNKNOWN                             21\n",
      "DRIVEWAY                            20\n",
      "FOUR WAY                            15\n",
      "T-INTERSECTION                      13\n",
      "CENTER TURN LANE                    12\n",
      "UNKNOWN INTERSECTION TYPE            2\n",
      "TRAFFIC ROUTE                        1\n",
      "Name: TRAFFICWAY_TYPE, dtype: int64\n",
      "-------------------------------------------------------\n",
      "STRAIGHT AND LEVEL       2072\n",
      "STRAIGHT ON GRADE          44\n",
      "CURVE, LEVEL               34\n",
      "CURVE ON GRADE             16\n",
      "STRAIGHT ON HILLCREST      14\n",
      "CURVE ON HILLCREST          6\n",
      "Name: ALIGNMENT, dtype: int64\n",
      "-------------------------------------------------------\n",
      "DRY                1643\n",
      "WET                 314\n",
      "UNKNOWN             113\n",
      "SNOW OR SLUSH        71\n",
      "OTHER                32\n",
      "ICE                  11\n",
      "SAND, MUD, DIRT       2\n",
      "Name: ROADWAY_SURFACE_COND, dtype: int64\n",
      "-------------------------------------------------------\n",
      "NO DEFECTS           1638\n",
      "UNKNOWN               388\n",
      "OTHER                 113\n",
      "RUT, HOLES             27\n",
      "WORN SURFACE           11\n",
      "DEBRIS ON ROADWAY       6\n",
      "SHOULDER DEFECT         3\n",
      "Name: ROAD_DEFECT, dtype: int64\n",
      "-------------------------------------------------------\n",
      "NO INJURY / DRIVE AWAY              1551\n",
      "INJURY AND / OR TOW DUE TO CRASH     635\n",
      "Name: CRASH_TYPE, dtype: int64\n",
      "-------------------------------------------------------\n",
      "0    1944\n",
      "1     242\n",
      "Name: INTERSECTION_RELATED_I, dtype: int64\n",
      "-------------------------------------------------------\n",
      "0    1944\n",
      "1     242\n",
      "Name: NOT_RIGHT_OF_WAY_I, dtype: int64\n",
      "-------------------------------------------------------\n",
      "0    1632\n",
      "1     554\n",
      "Name: HIT_AND_RUN_I, dtype: int64\n",
      "-------------------------------------------------------\n",
      "OVER $1,500      1206\n",
      "$501 - $1,500     604\n",
      "$500 OR LESS      376\n",
      "Name: DAMAGE, dtype: int64\n",
      "-------------------------------------------------------\n",
      "UNABLE TO DETERMINE                                                                 683\n",
      "FAILING TO YIELD RIGHT-OF-WAY                                                       222\n",
      "FOLLOWING TOO CLOSELY                                                               205\n",
      "NOT APPLICABLE                                                                      179\n",
      "IMPROPER BACKING                                                                    124\n",
      "DRIVING SKILLS/KNOWLEDGE/EXPERIENCE                                                 123\n",
      "IMPROPER OVERTAKING/PASSING                                                         110\n",
      "IMPROPER LANE USAGE                                                                  95\n",
      "FAILING TO REDUCE SPEED TO AVOID CRASH                                               80\n",
      "IMPROPER TURNING/NO SIGNAL                                                           49\n",
      "OPERATING VEHICLE IN ERRATIC, RECKLESS, CARELESS, NEGLIGENT OR AGGRESSIVE MANNER     39\n",
      "DISREGARDING OTHER TRAFFIC SIGNS                                                     34\n",
      "WEATHER                                                                              30\n",
      "DRIVING ON WRONG SIDE/WRONG WAY                                                      28\n",
      "ROAD CONSTRUCTION/MAINTENANCE                                                        28\n",
      "PHYSICAL CONDITION OF DRIVER                                                         17\n",
      "DISTRACTION - FROM INSIDE VEHICLE                                                    16\n",
      "EQUIPMENT - VEHICLE CONDITION                                                        16\n",
      "UNDER THE INFLUENCE OF ALCOHOL/DRUGS (USE WHEN ARREST IS EFFECTED)                   15\n",
      "DISREGARDING ROAD MARKINGS                                                           14\n",
      "EXCEEDING AUTHORIZED SPEED LIMIT                                                     13\n",
      "DISTRACTION - FROM OUTSIDE VEHICLE                                                   12\n",
      "EXCEEDING SAFE SPEED FOR CONDITIONS                                                  12\n",
      "VISION OBSCURED (SIGNS, TREE LIMBS, BUILDINGS, ETC.)                                 10\n",
      "ROAD ENGINEERING/SURFACE/MARKING DEFECTS                                              8\n",
      "DISREGARDING TRAFFIC SIGNALS                                                          5\n",
      "DISREGARDING YIELD SIGN                                                               4\n",
      "DISREGARDING STOP SIGN                                                                4\n",
      "TEXTING                                                                               3\n",
      "EVASIVE ACTION DUE TO ANIMAL, OBJECT, NONMOTORIST                                     3\n",
      "HAD BEEN DRINKING (USE WHEN ARREST IS NOT MADE)                                       2\n",
      "RELATED TO BUS STOP                                                                   2\n",
      "ANIMAL                                                                                1\n",
      "Name: PRIM_CONTRIBUTORY_CAUSE, dtype: int64\n",
      "-------------------------------------------------------\n",
      "NOT APPLICABLE                                                                      976\n",
      "UNABLE TO DETERMINE                                                                 577\n",
      "FAILING TO REDUCE SPEED TO AVOID CRASH                                               92\n",
      "FAILING TO YIELD RIGHT-OF-WAY                                                        76\n",
      "FOLLOWING TOO CLOSELY                                                                74\n",
      "IMPROPER OVERTAKING/PASSING                                                          46\n",
      "IMPROPER BACKING                                                                     45\n",
      "DRIVING SKILLS/KNOWLEDGE/EXPERIENCE                                                  42\n",
      "IMPROPER LANE USAGE                                                                  41\n",
      "OPERATING VEHICLE IN ERRATIC, RECKLESS, CARELESS, NEGLIGENT OR AGGRESSIVE MANNER     24\n",
      "WEATHER                                                                              23\n",
      "DRIVING ON WRONG SIDE/WRONG WAY                                                      21\n",
      "IMPROPER TURNING/NO SIGNAL                                                           17\n",
      "ROAD CONSTRUCTION/MAINTENANCE                                                        16\n",
      "DISREGARDING OTHER TRAFFIC SIGNS                                                     14\n",
      "DISTRACTION - FROM INSIDE VEHICLE                                                    14\n",
      "DISREGARDING ROAD MARKINGS                                                           14\n",
      "EQUIPMENT - VEHICLE CONDITION                                                        11\n",
      "PHYSICAL CONDITION OF DRIVER                                                         10\n",
      "EXCEEDING SAFE SPEED FOR CONDITIONS                                                   9\n",
      "DISREGARDING TRAFFIC SIGNALS                                                          7\n",
      "EXCEEDING AUTHORIZED SPEED LIMIT                                                      7\n",
      "UNDER THE INFLUENCE OF ALCOHOL/DRUGS (USE WHEN ARREST IS EFFECTED)                    5\n",
      "DISTRACTION - FROM OUTSIDE VEHICLE                                                    4\n",
      "ROAD ENGINEERING/SURFACE/MARKING DEFECTS                                              3\n",
      "VISION OBSCURED (SIGNS, TREE LIMBS, BUILDINGS, ETC.)                                  3\n",
      "HAD BEEN DRINKING (USE WHEN ARREST IS NOT MADE)                                       3\n",
      "EVASIVE ACTION DUE TO ANIMAL, OBJECT, NONMOTORIST                                     3\n",
      "RELATED TO BUS STOP                                                                   2\n",
      "DISREGARDING STOP SIGN                                                                2\n",
      "ANIMAL                                                                                1\n",
      "TEXTING                                                                               1\n",
      "DISREGARDING YIELD SIGN                                                               1\n",
      "CELL PHONE USE OTHER THAN TEXTING                                                     1\n",
      "BICYCLE ADVANCING LEGALLY ON RED LIGHT                                                1\n",
      "Name: SEC_CONTRIBUTORY_CAUSE, dtype: int64\n",
      "-------------------------------------------------------\n",
      "0    2177\n",
      "1       9\n",
      "Name: DOORING_I, dtype: int64\n",
      "-------------------------------------------------------\n",
      "0    2102\n",
      "1      84\n",
      "Name: WORK_ZONE_I, dtype: int64\n",
      "-------------------------------------------------------\n",
      "0    2153\n",
      "1      33\n",
      "Name: WORKERS_PRESENT_I, dtype: int64\n",
      "-------------------------------------------------------\n",
      "2    1748\n",
      "1     267\n",
      "3     126\n",
      "4      33\n",
      "5       9\n",
      "6       3\n",
      "Name: NUM_UNITS, dtype: int64\n",
      "-------------------------------------------------------\n",
      "NO INDICATION OF INJURY     1868\n",
      "NONINCAPACITATING INJURY     178\n",
      "REPORTED, NOT EVIDENT         91\n",
      "INCAPACITATING INJURY         46\n",
      "FATAL                          3\n",
      "Name: MOST_SEVERE_INJURY, dtype: int64\n",
      "-------------------------------------------------------\n",
      "15    173\n",
      "14    162\n",
      "16    147\n",
      "13    143\n",
      "11    137\n",
      "12    131\n",
      "17    130\n",
      "8     130\n",
      "18    123\n",
      "9     116\n",
      "10    104\n",
      "19    102\n",
      "7      95\n",
      "20     92\n",
      "21     69\n",
      "22     65\n",
      "23     46\n",
      "6      42\n",
      "2      39\n",
      "0      38\n",
      "1      34\n",
      "5      32\n",
      "3      18\n",
      "4      18\n",
      "Name: CRASH_HOUR, dtype: int64\n",
      "-------------------------------------------------------\n",
      "6    344\n",
      "2    330\n",
      "7    329\n",
      "3    327\n",
      "5    315\n",
      "4    293\n",
      "1    248\n",
      "Name: CRASH_DAY_OF_WEEK, dtype: int64\n",
      "-------------------------------------------------------\n",
      "10    268\n",
      "9     224\n",
      "11    200\n",
      "7     195\n",
      "8     187\n",
      "6     183\n",
      "12    180\n",
      "5     168\n",
      "3     162\n",
      "1     144\n",
      "2     138\n",
      "4     137\n",
      "Name: CRASH_MONTH, dtype: int64\n",
      "-------------------------------------------------------\n",
      "41.892094    10\n",
      "41.976201     8\n",
      "41.735430     7\n",
      "41.735277     5\n",
      "41.900959     4\n",
      "             ..\n",
      "41.996098     1\n",
      "41.996688     1\n",
      "41.885852     1\n",
      "41.864903     1\n",
      "41.913953     1\n",
      "Name: LATITUDE, Length: 2068, dtype: int64\n",
      "-------------------------------------------------------\n",
      "-87.611570    10\n",
      "-87.905309     8\n",
      "-87.566960     7\n",
      "-87.566529     5\n",
      "-87.565550     4\n",
      "              ..\n",
      "-87.573528     1\n",
      "-87.710771     1\n",
      "-87.619109     1\n",
      "-87.714343     1\n",
      "-87.626962     1\n",
      "Name: LONGITUDE, Length: 2068, dtype: int64\n",
      "-------------------------------------------------------\n",
      "POINT (-87.611569883947 41.892094136862)    10\n",
      "POINT (-87.905309125103 41.976201139024)     8\n",
      "POINT (-87.566959921223 41.735430166081)     7\n",
      "POINT (-87.566529296213 41.735276774373)     5\n",
      "POINT (-87.567167732877 41.735275353432)     4\n",
      "                                            ..\n",
      "POINT (-87.628510944036 41.890746791111)     1\n",
      "POINT (-87.626160348476 41.892618240004)     1\n",
      "POINT (-87.719328606034 41.939082893817)     1\n",
      "POINT (-87.581238553982 41.772173533942)     1\n",
      "POINT (-87.625294521098 41.883333604707)     1\n",
      "Name: LOCATION, Length: 2068, dtype: int64\n",
      "-------------------------------------------------------\n"
     ]
    }
   ],
   "source": [
    "# Look at feature value counts of all accidents that have 'other' traffic control device\n",
    "for col in df_control_device_other.columns:\n",
    "    print(df_control_device_other[col].value_counts())\n",
    "    print(\"-------------------------------------------------------\")"
   ]
  },
  {
   "cell_type": "code",
   "execution_count": 29,
   "metadata": {
    "ExecuteTime": {
     "end_time": "2021-06-30T20:02:44.426265Z",
     "start_time": "2021-06-30T20:02:44.317286Z"
    }
   },
   "outputs": [
    {
     "data": {
      "text/plain": [
       "NO CONTROLS                 271729\n",
       "TRAFFIC SIGNAL              124871\n",
       "STOP SIGN/FLASHER            39779\n",
       "UNKNOWN                      13980\n",
       "OTHER                         2186\n",
       "LANE USE MARKING              1017\n",
       "YIELD                          446\n",
       "OTHER REG. SIGN                396\n",
       "OTHER WARNING SIGN             353\n",
       "RAILROAD CROSSING GATE         285\n",
       "PEDESTRIAN CROSSING SIGN       147\n",
       "POLICE/FLAGMAN                 146\n",
       "DELINEATORS                    109\n",
       "FLASHING CONTROL SIGNAL        103\n",
       "SCHOOL ZONE                     78\n",
       "OTHER RAILROAD CROSSING         69\n",
       "RR CROSSING SIGN                32\n",
       "NO PASSING                      15\n",
       "BICYCLE CROSSING SIGN            9\n",
       "Name: TRAFFIC_CONTROL_DEVICE, dtype: int64"
      ]
     },
     "execution_count": 29,
     "metadata": {},
     "output_type": "execute_result"
    }
   ],
   "source": [
    "df['TRAFFIC_CONTROL_DEVICE'].value_counts()"
   ]
  },
  {
   "cell_type": "markdown",
   "metadata": {},
   "source": [
    "Seems like the same situation as unknown device control , Perhaps the best wayto deal with this is to make a dictionary of traffic control device and assign 4 values as No device,Some sort of signal/ sign and unknown"
   ]
  },
  {
   "cell_type": "code",
   "execution_count": 30,
   "metadata": {
    "ExecuteTime": {
     "end_time": "2021-06-30T20:02:44.442259Z",
     "start_time": "2021-06-30T20:02:44.429261Z"
    }
   },
   "outputs": [],
   "source": [
    "# consolidate traffic control device as sign, signal, nocontrols or unknown\n",
    "TRAFFIC_CONTROL_DEVICE_dict = {'NO CONTROLS': 'NO CONTROLS',\n",
    "                               'TRAFFIC SIGNAL': 'SIGNAL',\n",
    "                               'STOP SIGN/FLASHER': 'SIGN', \n",
    "                               'UNKNOWN': 'UNKNOWN',\n",
    "                               'OTHER': 'UNKNOWN',\n",
    "                               'OTHER REG. SIGN': 'SIGN',\n",
    "                               'YIELD':'SIGN',\n",
    "                               'LANE USE MARKING':'SIGN',\n",
    "                               'OTHER WARNING SIGN': 'SIGN',\n",
    "                               'PEDESTRIAN CROSSING SIGN':'SIGN',\n",
    "                               'RAILROAD CROSSING GATE': 'SIGNAL',\n",
    "                               'POLICE/FLAGMAN': 'SIGN',\n",
    "                               'FLASHING CONTROL SIGNAL':'SIGNAL',\n",
    "                               'DELINEATORS': 'SIGN',\n",
    "                               'SCHOOL ZONE': 'SIGN',\n",
    "                               'RR CROSSING SIGN': 'SIGN',\n",
    "                               'OTHER RAILROAD CROSSING':'SIGN',\n",
    "                               'BICYCLE CROSSING SIGN':'SIGN',\n",
    "                               'NO PASSING': 'SIGN'}\n"
   ]
  },
  {
   "cell_type": "code",
   "execution_count": 31,
   "metadata": {
    "ExecuteTime": {
     "end_time": "2021-06-30T20:02:44.570232Z",
     "start_time": "2021-06-30T20:02:44.445256Z"
    }
   },
   "outputs": [],
   "source": [
    "df['TRAFFIC_CONTROL_DEVICE'] = df['TRAFFIC_CONTROL_DEVICE'].map(TRAFFIC_CONTROL_DEVICE_dict)"
   ]
  },
  {
   "cell_type": "code",
   "execution_count": 32,
   "metadata": {
    "ExecuteTime": {
     "end_time": "2021-06-30T20:02:44.698198Z",
     "start_time": "2021-06-30T20:02:44.574226Z"
    }
   },
   "outputs": [
    {
     "data": {
      "text/plain": [
       "NO CONTROLS    271729\n",
       "SIGNAL         125259\n",
       "SIGN            42596\n",
       "UNKNOWN         16166\n",
       "Name: TRAFFIC_CONTROL_DEVICE, dtype: int64"
      ]
     },
     "execution_count": 32,
     "metadata": {},
     "output_type": "execute_result"
    }
   ],
   "source": [
    "df['TRAFFIC_CONTROL_DEVICE'].value_counts()"
   ]
  },
  {
   "cell_type": "markdown",
   "metadata": {},
   "source": [
    "We will use the same strategy for Device Condition"
   ]
  },
  {
   "cell_type": "code",
   "execution_count": 33,
   "metadata": {
    "ExecuteTime": {
     "end_time": "2021-06-30T20:02:44.841164Z",
     "start_time": "2021-06-30T20:02:44.702197Z"
    }
   },
   "outputs": [
    {
     "data": {
      "text/plain": [
       "NO CONTROLS                 264719\n",
       "FUNCTIONING PROPERLY        158302\n",
       "UNKNOWN                      24957\n",
       "OTHER                         3518\n",
       "FUNCTIONING IMPROPERLY        2484\n",
       "NOT FUNCTIONING               1511\n",
       "WORN REFLECTIVE MATERIAL       205\n",
       "MISSING                         54\n",
       "Name: DEVICE_CONDITION, dtype: int64"
      ]
     },
     "execution_count": 33,
     "metadata": {},
     "output_type": "execute_result"
    }
   ],
   "source": [
    "df['DEVICE_CONDITION'].value_counts()"
   ]
  },
  {
   "cell_type": "code",
   "execution_count": 34,
   "metadata": {
    "ExecuteTime": {
     "end_time": "2021-06-30T20:02:44.857158Z",
     "start_time": "2021-06-30T20:02:44.845163Z"
    }
   },
   "outputs": [],
   "source": [
    "# consolidate traffic control device condition as functional, unfunctional, nocontrols\n",
    "DEVICE_CONDITION_dict = {'NO CONTROLS': 'NO CONTROLS',\n",
    "                         'FUNCTIONING PROPERLY':'FUNCTIONAL',\n",
    "                         'UNKNOWN':'NO CONTROLS',\n",
    "                         'OTHER':'UNFUNCTIONAL',                        \n",
    "                         'FUNCTIONING IMPROPERLY':'UNFUNCTIONAL',\n",
    "                         'NOT FUNCTIONING':'UNFUNCTIONAL',\n",
    "                         'WORN REFLECTIVE MATERIAL':'UNFUNCTIONAL',\n",
    "                         'MISSING':'UNFUNCTIONAL'}                        "
   ]
  },
  {
   "cell_type": "code",
   "execution_count": 35,
   "metadata": {
    "ExecuteTime": {
     "end_time": "2021-06-30T20:02:44.983118Z",
     "start_time": "2021-06-30T20:02:44.861158Z"
    }
   },
   "outputs": [],
   "source": [
    "df['DEVICE_CONDITION'] = df['DEVICE_CONDITION'].map(DEVICE_CONDITION_dict)"
   ]
  },
  {
   "cell_type": "code",
   "execution_count": 36,
   "metadata": {
    "ExecuteTime": {
     "end_time": "2021-06-30T20:02:45.109686Z",
     "start_time": "2021-06-30T20:02:44.989116Z"
    }
   },
   "outputs": [
    {
     "data": {
      "text/plain": [
       "NO CONTROLS     289676\n",
       "FUNCTIONAL      158302\n",
       "UNFUNCTIONAL      7772\n",
       "Name: DEVICE_CONDITION, dtype: int64"
      ]
     },
     "execution_count": 36,
     "metadata": {},
     "output_type": "execute_result"
    }
   ],
   "source": [
    "df['DEVICE_CONDITION'].value_counts()"
   ]
  },
  {
   "cell_type": "code",
   "execution_count": 37,
   "metadata": {
    "ExecuteTime": {
     "end_time": "2021-06-30T20:02:45.252642Z",
     "start_time": "2021-06-30T20:02:45.113683Z"
    }
   },
   "outputs": [
    {
     "data": {
      "text/plain": [
       "CLEAR                       362022\n",
       "RAIN                         41543\n",
       "UNKNOWN                      19580\n",
       "SNOW                         15674\n",
       "CLOUDY/OVERCAST              13480\n",
       "OTHER                         1404\n",
       "FOG/SMOKE/HAZE                 798\n",
       "SLEET/HAIL                     655\n",
       "FREEZING RAIN/DRIZZLE          436\n",
       "SEVERE CROSS WIND GATE          94\n",
       "BLOWING SNOW                    62\n",
       "BLOWING SAND, SOIL, DIRT         2\n",
       "Name: WEATHER_CONDITION, dtype: int64"
      ]
     },
     "execution_count": 37,
     "metadata": {},
     "output_type": "execute_result"
    }
   ],
   "source": [
    "df['WEATHER_CONDITION'].value_counts()"
   ]
  },
  {
   "cell_type": "markdown",
   "metadata": {},
   "source": [
    "For Weather condtion it seems The main things that will affect driving conditions and cause accidents are visibility , wet roads or for lack of better works some other crossiwinds or unknown condition that cant be observed while filing the report etc "
   ]
  },
  {
   "cell_type": "code",
   "execution_count": 38,
   "metadata": {
    "ExecuteTime": {
     "end_time": "2021-06-30T20:02:45.268637Z",
     "start_time": "2021-06-30T20:02:45.256637Z"
    }
   },
   "outputs": [],
   "source": [
    "# consolidate weather condition based on visibility, rain , snow and unknown\n",
    "WEATHER_CONDITON_dict = {'CLEAR': 'CLEAR', \n",
    "                         'RAIN':'RAIN',\n",
    "                         'UNKNOWN':'UNKNOWN',\n",
    "                         'SNOW':'SNOW/ICE',\n",
    "                         'CLOUDY/OVERCAST': 'CLEAR', \n",
    "                         'OTHER':'UNKNOWN',\n",
    "                          'SLEET/HAIL':'SNOW/ICE', \n",
    "                         'FREEZING RAIN/DRIZZLE':'SNOW/ICE',\n",
    "                         'FOG/SMOKE/HAZE':'UNKNOWN',\n",
    "                         'SEVERE CROSS WIND GATE':'UNKNOWN',\n",
    "                         'BLOWING SNOW':'SNOW/ICE',\n",
    "                         'BLOWING SAND, SOIL, DIRT':'SNOW/ICE'}"
   ]
  },
  {
   "cell_type": "code",
   "execution_count": 39,
   "metadata": {
    "ExecuteTime": {
     "end_time": "2021-06-30T20:02:45.395602Z",
     "start_time": "2021-06-30T20:02:45.272630Z"
    }
   },
   "outputs": [],
   "source": [
    "df['WEATHER_CONDITION']=df['WEATHER_CONDITION'].map(WEATHER_CONDITON_dict)\n"
   ]
  },
  {
   "cell_type": "code",
   "execution_count": 40,
   "metadata": {
    "ExecuteTime": {
     "end_time": "2021-06-30T20:02:45.522560Z",
     "start_time": "2021-06-30T20:02:45.398601Z"
    }
   },
   "outputs": [
    {
     "data": {
      "text/plain": [
       "CLEAR       375502\n",
       "RAIN         41543\n",
       "UNKNOWN      21876\n",
       "SNOW/ICE     16829\n",
       "Name: WEATHER_CONDITION, dtype: int64"
      ]
     },
     "execution_count": 40,
     "metadata": {},
     "output_type": "execute_result"
    }
   ],
   "source": [
    "df['WEATHER_CONDITION'].value_counts()"
   ]
  },
  {
   "cell_type": "code",
   "execution_count": 41,
   "metadata": {
    "ExecuteTime": {
     "end_time": "2021-06-30T20:02:45.712502Z",
     "start_time": "2021-06-30T20:02:45.526559Z"
    }
   },
   "outputs": [],
   "source": [
    "# Set road surface with unknowns as weather condition knowns \n",
    "df.loc[(df['ROADWAY_SURFACE_COND']!=\"UNKNOWN\" )& \n",
    "       (df['WEATHER_CONDITION']==\"UNKNOWN\"),'WEATHER_CONDITION']=df['ROADWAY_SURFACE_COND']"
   ]
  },
  {
   "cell_type": "code",
   "execution_count": 42,
   "metadata": {
    "ExecuteTime": {
     "end_time": "2021-06-30T20:02:45.839821Z",
     "start_time": "2021-06-30T20:02:45.715497Z"
    }
   },
   "outputs": [
    {
     "data": {
      "text/plain": [
       "CLEAR              375502\n",
       "RAIN                41543\n",
       "UNKNOWN             17216\n",
       "SNOW/ICE            16829\n",
       "DRY                  2375\n",
       "WET                  1461\n",
       "ICE                   318\n",
       "SNOW OR SLUSH         295\n",
       "OTHER                 203\n",
       "SAND, MUD, DIRT         8\n",
       "Name: WEATHER_CONDITION, dtype: int64"
      ]
     },
     "execution_count": 42,
     "metadata": {},
     "output_type": "execute_result"
    }
   ],
   "source": [
    "df['WEATHER_CONDITION'].value_counts()"
   ]
  },
  {
   "cell_type": "code",
   "execution_count": 43,
   "metadata": {
    "ExecuteTime": {
     "end_time": "2021-06-30T20:02:45.855815Z",
     "start_time": "2021-06-30T20:02:45.843822Z"
    }
   },
   "outputs": [],
   "source": [
    "# consolidate weather condition based on visibility, rain , snow and unknown\n",
    "WEATHER_CONDITON_dict = {'CLEAR': 'CLEAR', \n",
    "                         'RAIN':'RAIN',\n",
    "                         'UNKNOWN':'UNKNOWN',\n",
    "                         'SNOW/ICE':'SNOW/ICE',\n",
    "                         'DRY': 'CLEAR', \n",
    "                         'WET':'RAIN',\n",
    "                          'SNOW OR SLUSH':'SNOW/ICE', \n",
    "                         'ICE':'SNOW/ICE',\n",
    "                         'OTHER':'UNKNOWN',\n",
    "                        'SAND, MUD, DIRT':'UNKNOWN'}"
   ]
  },
  {
   "cell_type": "code",
   "execution_count": 44,
   "metadata": {
    "ExecuteTime": {
     "end_time": "2021-06-30T20:02:45.965652Z",
     "start_time": "2021-06-30T20:02:45.859815Z"
    }
   },
   "outputs": [],
   "source": [
    "df['WEATHER_CONDITION']=df['WEATHER_CONDITION'].map(WEATHER_CONDITON_dict)\n"
   ]
  },
  {
   "cell_type": "code",
   "execution_count": 45,
   "metadata": {
    "ExecuteTime": {
     "end_time": "2021-06-30T20:02:46.077614Z",
     "start_time": "2021-06-30T20:02:45.969651Z"
    }
   },
   "outputs": [
    {
     "data": {
      "text/plain": [
       "CLEAR       377877\n",
       "RAIN         43004\n",
       "SNOW/ICE     17442\n",
       "UNKNOWN      17427\n",
       "Name: WEATHER_CONDITION, dtype: int64"
      ]
     },
     "execution_count": 45,
     "metadata": {},
     "output_type": "execute_result"
    }
   ],
   "source": [
    "df['WEATHER_CONDITION'].value_counts()"
   ]
  },
  {
   "cell_type": "markdown",
   "metadata": {},
   "source": [
    "For Lighting we can consider 4 possibilities , High lighting during the daylight , Low lighting during dawn and dusk ,and no lighting where headlights are only source of light.Artificially lighted where there are street lights.There are some entries where lighting condition is unknown , I was considering categorizing them based on time of crash and avg sunrise/sunset by month for chicago but since its only 4000 entries its now a big chunk of the data so not worth it . So insteadn i figured that lighting is a liability we will assume the lighting condition as low light. "
   ]
  },
  {
   "cell_type": "code",
   "execution_count": 46,
   "metadata": {
    "ExecuteTime": {
     "end_time": "2021-06-30T20:02:46.109602Z",
     "start_time": "2021-06-30T20:02:46.080613Z"
    },
    "code_folding": []
   },
   "outputs": [],
   "source": [
    "# consolidate Lighting condition based on visibility\n",
    "LIGHTING_CONDITION_dict = {'DAYLIGHT':'DAYLIGHT',\n",
    "                           'DARKNESS, LIGHTED ROAD':'LIGHTED',\n",
    "                           'DARKNESS':'DARK',\n",
    "                           'UNKNOWN': 'DIM',\n",
    "                            'DUSK':'DIM',\n",
    "                           'DAWN': 'DIM',}"
   ]
  },
  {
   "cell_type": "code",
   "execution_count": 47,
   "metadata": {
    "ExecuteTime": {
     "end_time": "2021-06-30T20:02:46.236552Z",
     "start_time": "2021-06-30T20:02:46.113600Z"
    }
   },
   "outputs": [],
   "source": [
    "df['LIGHTING_CONDITION'] = df['LIGHTING_CONDITION'].map(LIGHTING_CONDITION_dict)"
   ]
  },
  {
   "cell_type": "code",
   "execution_count": 48,
   "metadata": {
    "ExecuteTime": {
     "end_time": "2021-06-30T20:02:46.362515Z",
     "start_time": "2021-06-30T20:02:46.241556Z"
    }
   },
   "outputs": [
    {
     "data": {
      "text/plain": [
       "DAYLIGHT    298047\n",
       "LIGHTED      96341\n",
       "DIM          38323\n",
       "DARK         23039\n",
       "Name: LIGHTING_CONDITION, dtype: int64"
      ]
     },
     "execution_count": 48,
     "metadata": {},
     "output_type": "execute_result"
    }
   ],
   "source": [
    "df['LIGHTING_CONDITION'].value_counts()"
   ]
  },
  {
   "cell_type": "markdown",
   "metadata": {},
   "source": [
    "For type of first collision in a crash most of them are pretty unique the only ones we can consolidate are SideSwipe Front/Rear, Turning /Angle, Fixed Object/ Other Object"
   ]
  },
  {
   "cell_type": "code",
   "execution_count": 49,
   "metadata": {
    "ExecuteTime": {
     "end_time": "2021-06-30T20:02:46.615450Z",
     "start_time": "2021-06-30T20:02:46.366515Z"
    }
   },
   "outputs": [],
   "source": [
    "#Consolidate variations of sideswipe accidents as 1 category\n",
    "sideswipe=['SIDESWIPE OPPOSITE DIRECTION','SIDESWIPE SAME DIRECTION']\n",
    "other_object =['FIXED OBJECT','OTHER OBJECT']\n",
    "df['FIRST_CRASH_TYPE'] = df['FIRST_CRASH_TYPE'].replace(dict.fromkeys(sideswipe, 'SIDESWIPE'))\n",
    "df['FIRST_CRASH_TYPE'] = df['FIRST_CRASH_TYPE'].replace(dict.fromkeys(other_object, 'SIDESWIPE'))\n",
    "df['FIRST_CRASH_TYPE'] = df['FIRST_CRASH_TYPE'].replace(\"REAR TO FRONT\", 'REAR END')"
   ]
  },
  {
   "cell_type": "code",
   "execution_count": 50,
   "metadata": {
    "ExecuteTime": {
     "end_time": "2021-06-30T20:02:46.900366Z",
     "start_time": "2021-06-30T20:02:46.619455Z"
    }
   },
   "outputs": [],
   "source": [
    "# Consolidate non-collision and rear accidents\n",
    "df.loc[df['FIRST_CRASH_TYPE']=='ANIMAL','FIRST_CRASH_TYPE']='OTHER NONCOLLISION'\n",
    "df.loc[df['FIRST_CRASH_TYPE']=='OVERTURNED','FIRST_CRASH_TYPE']='OTHER NONCOLLISION'\n",
    "df.loc[df['FIRST_CRASH_TYPE']=='REAR TO REAR','FIRST_CRASH_TYPE']='HIT_BY_REAR'\n",
    "df.loc[df['FIRST_CRASH_TYPE']=='REAR TO SIDE','FIRST_CRASH_TYPE']='HIT_BY_REAR'"
   ]
  },
  {
   "cell_type": "code",
   "execution_count": 51,
   "metadata": {
    "ExecuteTime": {
     "end_time": "2021-06-30T20:02:47.044314Z",
     "start_time": "2021-06-30T20:02:46.903361Z"
    }
   },
   "outputs": [
    {
     "data": {
      "text/plain": [
       "REAR END                112099\n",
       "PARKED MOTOR VEHICLE    103850\n",
       "SIDESWIPE               102327\n",
       "TURNING                  63807\n",
       "ANGLE                    48142\n",
       "PEDESTRIAN               10704\n",
       "PEDALCYCLIST              6854\n",
       "HEAD ON                   3852\n",
       "OTHER NONCOLLISION        2103\n",
       "HIT_BY_REAR               1983\n",
       "TRAIN                       29\n",
       "Name: FIRST_CRASH_TYPE, dtype: int64"
      ]
     },
     "execution_count": 51,
     "metadata": {},
     "output_type": "execute_result"
    }
   ],
   "source": [
    "df['FIRST_CRASH_TYPE'].value_counts()"
   ]
  },
  {
   "cell_type": "markdown",
   "metadata": {},
   "source": [
    "Since there is a small number of train crashes the sample size is too small for our analysis so we will drop it "
   ]
  },
  {
   "cell_type": "code",
   "execution_count": 52,
   "metadata": {
    "ExecuteTime": {
     "end_time": "2021-06-30T20:02:47.345222Z",
     "start_time": "2021-06-30T20:02:47.048314Z"
    }
   },
   "outputs": [],
   "source": [
    "df.drop(index=df[df['FIRST_CRASH_TYPE'] == 'TRAIN'].index, inplace=True)"
   ]
  },
  {
   "cell_type": "markdown",
   "metadata": {},
   "source": [
    "For Trafficway type we can consildate Divided roads as divided.Unreported roads are probably regular 2 way roads"
   ]
  },
  {
   "cell_type": "code",
   "execution_count": 53,
   "metadata": {
    "ExecuteTime": {
     "end_time": "2021-06-30T20:02:47.487405Z",
     "start_time": "2021-06-30T20:02:47.349216Z"
    }
   },
   "outputs": [
    {
     "data": {
      "text/plain": [
       "NOT DIVIDED                        204718\n",
       "DIVIDED - W/MEDIAN (NOT RAISED)     81474\n",
       "ONE-WAY                             60100\n",
       "PARKING LOT                         32385\n",
       "DIVIDED - W/MEDIAN BARRIER          27135\n",
       "FOUR WAY                            13032\n",
       "OTHER                               12814\n",
       "ALLEY                                7465\n",
       "UNKNOWN                              4938\n",
       "CENTER TURN LANE                     3949\n",
       "T-INTERSECTION                       2734\n",
       "DRIVEWAY                             1577\n",
       "RAMP                                 1415\n",
       "UNKNOWN INTERSECTION TYPE             834\n",
       "Y-INTERSECTION                        338\n",
       "FIVE POINT, OR MORE                   332\n",
       "TRAFFIC ROUTE                         248\n",
       "NOT REPORTED                          104\n",
       "ROUNDABOUT                             82\n",
       "L-INTERSECTION                         47\n",
       "Name: TRAFFICWAY_TYPE, dtype: int64"
      ]
     },
     "execution_count": 53,
     "metadata": {},
     "output_type": "execute_result"
    }
   ],
   "source": [
    "df['TRAFFICWAY_TYPE'].value_counts()"
   ]
  },
  {
   "cell_type": "code",
   "execution_count": 54,
   "metadata": {
    "ExecuteTime": {
     "end_time": "2021-06-30T20:02:47.694347Z",
     "start_time": "2021-06-30T20:02:47.491400Z"
    }
   },
   "outputs": [],
   "source": [
    "Not_divided = ['OTHER','UNKNOWN','UNKNOWN INTERSECTION TYPE','UNREPORTED','NOT REPORTED']\n",
    "df['TRAFFICWAY_TYPE'] = df['TRAFFICWAY_TYPE'].replace(dict.fromkeys(Not_divided, 'NOT DIVIDED'))\n"
   ]
  },
  {
   "cell_type": "code",
   "execution_count": 55,
   "metadata": {
    "ExecuteTime": {
     "end_time": "2021-06-30T20:02:47.821306Z",
     "start_time": "2021-06-30T20:02:47.698347Z"
    }
   },
   "outputs": [],
   "source": [
    "Divided = ['DIVIDED - W/MEDIAN (NOT RAISED)','DIVIDED - W/MEDIAN BARRIER']\n",
    "df['TRAFFICWAY_TYPE'] = df['TRAFFICWAY_TYPE'].replace(dict.fromkeys(Divided, 'DIVIDED'))\n"
   ]
  },
  {
   "cell_type": "markdown",
   "metadata": {},
   "source": [
    "Turn Y and T intersection as 3-way intersection"
   ]
  },
  {
   "cell_type": "code",
   "execution_count": 56,
   "metadata": {
    "ExecuteTime": {
     "end_time": "2021-06-30T20:02:47.980252Z",
     "start_time": "2021-06-30T20:02:47.825305Z"
    }
   },
   "outputs": [],
   "source": [
    "#Turn Y and T intersection as 3-way intersection\n",
    "df.loc[df['TRAFFICWAY_TYPE']=='T-INTERSECTION','TRAFFICWAY_TYPE']='THREE_WAY_INT'\n",
    "df.loc[df['TRAFFICWAY_TYPE']=='Y-INTERSECTION','TRAFFICWAY_TYPE']='THREE_WAY_INT'"
   ]
  },
  {
   "cell_type": "code",
   "execution_count": 57,
   "metadata": {
    "ExecuteTime": {
     "end_time": "2021-06-30T20:02:48.122223Z",
     "start_time": "2021-06-30T20:02:47.984253Z"
    }
   },
   "outputs": [
    {
     "data": {
      "text/plain": [
       "NOT DIVIDED            223408\n",
       "DIVIDED                108609\n",
       "ONE-WAY                 60100\n",
       "PARKING LOT             32385\n",
       "FOUR WAY                13032\n",
       "ALLEY                    7465\n",
       "CENTER TURN LANE         3949\n",
       "THREE_WAY_INT            3072\n",
       "DRIVEWAY                 1577\n",
       "RAMP                     1415\n",
       "FIVE POINT, OR MORE       332\n",
       "TRAFFIC ROUTE             248\n",
       "ROUNDABOUT                 82\n",
       "L-INTERSECTION             47\n",
       "Name: TRAFFICWAY_TYPE, dtype: int64"
      ]
     },
     "execution_count": 57,
     "metadata": {},
     "output_type": "execute_result"
    }
   ],
   "source": [
    "df['TRAFFICWAY_TYPE'].value_counts()"
   ]
  },
  {
   "cell_type": "markdown",
   "metadata": {},
   "source": [
    "For Alignment it seems majority of the data entries are straight or curved . We can convert it into binary value where straight =1 and curved =0"
   ]
  },
  {
   "cell_type": "code",
   "execution_count": 58,
   "metadata": {
    "ExecuteTime": {
     "end_time": "2021-06-30T20:02:48.583785Z",
     "start_time": "2021-06-30T20:02:48.126219Z"
    }
   },
   "outputs": [],
   "source": [
    "df['ALIGNMENT']=df['ALIGNMENT'].map(lambda x: 1 if 'STRAIGHT' in x else 0)"
   ]
  },
  {
   "cell_type": "code",
   "execution_count": 59,
   "metadata": {
    "ExecuteTime": {
     "end_time": "2021-06-30T20:02:48.615118Z",
     "start_time": "2021-06-30T20:02:48.587782Z"
    }
   },
   "outputs": [
    {
     "data": {
      "text/plain": [
       "1    451491\n",
       "0      4230\n",
       "Name: ALIGNMENT, dtype: int64"
      ]
     },
     "execution_count": 59,
     "metadata": {},
     "output_type": "execute_result"
    }
   ],
   "source": [
    "df['ALIGNMENT'].value_counts()"
   ]
  },
  {
   "cell_type": "code",
   "execution_count": 60,
   "metadata": {
    "ExecuteTime": {
     "end_time": "2021-06-30T20:02:48.854271Z",
     "start_time": "2021-06-30T20:02:48.618113Z"
    }
   },
   "outputs": [],
   "source": [
    "df.drop(['ROADWAY_SURFACE_COND'],axis=1, inplace=True)"
   ]
  },
  {
   "cell_type": "code",
   "execution_count": 61,
   "metadata": {
    "ExecuteTime": {
     "end_time": "2021-06-30T20:02:49.316365Z",
     "start_time": "2021-06-30T20:02:48.857266Z"
    }
   },
   "outputs": [],
   "source": [
    "#Roadway defects can be categorized as a binary variable where defect=1, nodefect=0\n",
    "df['ROAD_DEFECT'] = df['ROAD_DEFECT'].map(lambda x: 0 if ('NO DEFECTS' in x or 'UNKNOWN' in x ) else 1)"
   ]
  },
  {
   "cell_type": "code",
   "execution_count": 62,
   "metadata": {
    "ExecuteTime": {
     "end_time": "2021-06-30T20:02:49.346361Z",
     "start_time": "2021-06-30T20:02:49.319370Z"
    }
   },
   "outputs": [
    {
     "data": {
      "text/plain": [
       "0    445553\n",
       "1     10168\n",
       "Name: ROAD_DEFECT, dtype: int64"
      ]
     },
     "execution_count": 62,
     "metadata": {},
     "output_type": "execute_result"
    }
   ],
   "source": [
    "df['ROAD_DEFECT'].value_counts()\n"
   ]
  },
  {
   "cell_type": "code",
   "execution_count": 63,
   "metadata": {
    "ExecuteTime": {
     "end_time": "2021-06-30T20:02:49.808572Z",
     "start_time": "2021-06-30T20:02:49.350359Z"
    }
   },
   "outputs": [],
   "source": [
    "df['CRASH_TYPE'] = df['CRASH_TYPE'].map(lambda x: 0 if ('NO INJURY' in x ) else 1)\n"
   ]
  },
  {
   "cell_type": "code",
   "execution_count": 64,
   "metadata": {
    "ExecuteTime": {
     "end_time": "2021-06-30T20:02:49.840591Z",
     "start_time": "2021-06-30T20:02:49.811567Z"
    }
   },
   "outputs": [
    {
     "data": {
      "text/plain": [
       "0    344624\n",
       "1    111097\n",
       "Name: CRASH_TYPE, dtype: int64"
      ]
     },
     "execution_count": 64,
     "metadata": {},
     "output_type": "execute_result"
    }
   ],
   "source": [
    "df['CRASH_TYPE'].value_counts()\n"
   ]
  },
  {
   "cell_type": "code",
   "execution_count": 65,
   "metadata": {
    "ExecuteTime": {
     "end_time": "2021-06-30T20:02:50.433523Z",
     "start_time": "2021-06-30T20:02:49.844587Z"
    }
   },
   "outputs": [],
   "source": [
    "df['DAMAGE'] = df['DAMAGE'].map(lambda x: x.replace('$','').replace(',',\"\"))\n"
   ]
  },
  {
   "cell_type": "code",
   "execution_count": 66,
   "metadata": {
    "ExecuteTime": {
     "end_time": "2021-06-30T20:02:50.607296Z",
     "start_time": "2021-06-30T20:02:50.433523Z"
    }
   },
   "outputs": [
    {
     "data": {
      "text/plain": [
       "OVER 1500      261871\n",
       "501 - 1500     134411\n",
       "500 OR LESS     59439\n",
       "Name: DAMAGE, dtype: int64"
      ]
     },
     "execution_count": 66,
     "metadata": {},
     "output_type": "execute_result"
    }
   ],
   "source": [
    "df['DAMAGE'].value_counts()"
   ]
  },
  {
   "cell_type": "code",
   "execution_count": 67,
   "metadata": {
    "ExecuteTime": {
     "end_time": "2021-06-30T20:02:50.735030Z",
     "start_time": "2021-06-30T20:02:50.611293Z"
    }
   },
   "outputs": [],
   "source": [
    "df = df.rename(columns={'DAMAGE':\"DOLLAR_DAMAGE\",'MOST_SEVERE_INJURY':'INJURY_TYPE'})"
   ]
  },
  {
   "cell_type": "code",
   "execution_count": null,
   "metadata": {
    "ExecuteTime": {
     "end_time": "2020-11-28T14:16:51.310173Z",
     "start_time": "2020-11-28T14:16:51.303180Z"
    }
   },
   "outputs": [],
   "source": []
  },
  {
   "cell_type": "code",
   "execution_count": 68,
   "metadata": {
    "ExecuteTime": {
     "end_time": "2021-06-30T20:02:51.020579Z",
     "start_time": "2021-06-30T20:02:50.761021Z"
    }
   },
   "outputs": [],
   "source": [
    "# Use for later , try to determiune the unknown values using data about other accidents\n",
    "df_test=df.loc[(df['PRIM_CONTRIBUTORY_CAUSE']==\"UNABLE TO DETERMINE\" )&(df['PRIM_CONTRIBUTORY_CAUSE']==\"UNABLE TO DETERMINE\")]"
   ]
  },
  {
   "cell_type": "markdown",
   "metadata": {},
   "source": [
    "Looking at the primary and seconday cause of accidents seems there are a lot of undetermined causes.Since we will be trying to predict the primary cause of the accident based on the other data about the incident it would be useless to have incidents where the primary cause and secondry cause is undetermined."
   ]
  },
  {
   "cell_type": "markdown",
   "metadata": {},
   "source": [
    "There are about 75K Accidents that are unable to determined or all hit and run . Since we dont know what was the exact nature of the hit and run we can seperate them from actuall unknowns as Unknown due to hit and run."
   ]
  },
  {
   "cell_type": "code",
   "execution_count": 69,
   "metadata": {
    "ExecuteTime": {
     "end_time": "2021-06-30T20:02:51.131252Z",
     "start_time": "2021-06-30T20:02:51.032796Z"
    }
   },
   "outputs": [],
   "source": [
    "#Categorize Accidents that are hit and run and have  prim cause as unable to determined =UNKNOWN_HR\n",
    "df.loc[((df[\"PRIM_CONTRIBUTORY_CAUSE\"]=='UNABLE TO DETERMINE') & (df['HIT_AND_RUN_I']==1)),\n",
    "       \"PRIM_CONTRIBUTORY_CAUSE\"] =\"UNKNOWN_HR\""
   ]
  },
  {
   "cell_type": "code",
   "execution_count": 70,
   "metadata": {
    "ExecuteTime": {
     "end_time": "2021-06-30T20:02:51.227226Z",
     "start_time": "2021-06-30T20:02:51.135246Z"
    }
   },
   "outputs": [],
   "source": [
    "#Categorize Accidents that are hit and run and have  prim cause as not applicable to determined =UNKNOWN_HR\n",
    "df.loc[((df[\"PRIM_CONTRIBUTORY_CAUSE\"]=='NOT APPLICABLE') & (df['HIT_AND_RUN_I']==1)),\n",
    "       \"PRIM_CONTRIBUTORY_CAUSE\"] =\"UNKNOWN_HR\""
   ]
  },
  {
   "cell_type": "code",
   "execution_count": 71,
   "metadata": {
    "ExecuteTime": {
     "end_time": "2021-06-30T20:05:12.292331Z",
     "start_time": "2021-06-30T20:02:51.231228Z"
    }
   },
   "outputs": [],
   "source": [
    "# WE replace not appicable or undetermined primary causes with known secondary causes \n",
    "for index, row in df.iterrows(): \n",
    "    if df.loc[index,'PRIM_CONTRIBUTORY_CAUSE'] == 'NOT APPLICABLE':\n",
    "        if (df.loc[index,'SEC_CONTRIBUTORY_CAUSE'] != 'UNABLE TO DETERMINE') & (df.loc[index,'SEC_CONTRIBUTORY_CAUSE'] != 'NOT APPLICABLE'):\n",
    "            df.loc[index,'PRIM_CONTRIBUTORY_CAUSE'] = df.loc[index,'SEC_CONTRIBUTORY_CAUSE']\n",
    "    if df.loc[index,'PRIM_CONTRIBUTORY_CAUSE'] == 'UNABLE TO DETERMINE':\n",
    "        if (df.loc[index,'SEC_CONTRIBUTORY_CAUSE'] != 'UNABLE TO DETERMINE') & (df.loc[index,'SEC_CONTRIBUTORY_CAUSE'] != 'NOT APPLICABLE'):\n",
    "            df.loc[index,'PRIM_CONTRIBUTORY_CAUSE'] = df.loc[index,'SEC_CONTRIBUTORY_CAUSE']"
   ]
  },
  {
   "cell_type": "code",
   "execution_count": 72,
   "metadata": {
    "ExecuteTime": {
     "end_time": "2021-06-30T20:05:12.663700Z",
     "start_time": "2021-06-30T20:05:12.292331Z"
    }
   },
   "outputs": [],
   "source": [
    "#Drop accidents that have undetermined or notapplicable causes and that are not hit and run \n",
    "df = df.loc[(df['PRIM_CONTRIBUTORY_CAUSE'] != 'NOT APPLICABLE')&\n",
    "           (df['PRIM_CONTRIBUTORY_CAUSE'] != 'UNABLE TO DETERMINE')]"
   ]
  },
  {
   "cell_type": "code",
   "execution_count": 73,
   "metadata": {
    "ExecuteTime": {
     "end_time": "2021-06-30T20:05:12.757669Z",
     "start_time": "2021-06-30T20:05:12.666699Z"
    }
   },
   "outputs": [
    {
     "data": {
      "text/plain": [
       "UNKNOWN_HR                                                                          72278\n",
       "FAILING TO YIELD RIGHT-OF-WAY                                                       50956\n",
       "FOLLOWING TOO CLOSELY                                                               49380\n",
       "IMPROPER OVERTAKING/PASSING                                                         21873\n",
       "IMPROPER BACKING                                                                    20281\n",
       "FAILING TO REDUCE SPEED TO AVOID CRASH                                              19853\n",
       "IMPROPER LANE USAGE                                                                 18057\n",
       "IMPROPER TURNING/NO SIGNAL                                                          15320\n",
       "DRIVING SKILLS/KNOWLEDGE/EXPERIENCE                                                 14842\n",
       "DISREGARDING TRAFFIC SIGNALS                                                         8188\n",
       "WEATHER                                                                              7415\n",
       "OPERATING VEHICLE IN ERRATIC, RECKLESS, CARELESS, NEGLIGENT OR AGGRESSIVE MANNER     5701\n",
       "DISREGARDING STOP SIGN                                                               5063\n",
       "DISTRACTION - FROM INSIDE VEHICLE                                                    3404\n",
       "EQUIPMENT - VEHICLE CONDITION                                                        2871\n",
       "PHYSICAL CONDITION OF DRIVER                                                         2805\n",
       "VISION OBSCURED (SIGNS, TREE LIMBS, BUILDINGS, ETC.)                                 2749\n",
       "UNDER THE INFLUENCE OF ALCOHOL/DRUGS (USE WHEN ARREST IS EFFECTED)                   2432\n",
       "DRIVING ON WRONG SIDE/WRONG WAY                                                      2139\n",
       "DISTRACTION - FROM OUTSIDE VEHICLE                                                   2075\n",
       "EXCEEDING AUTHORIZED SPEED LIMIT                                                     1994\n",
       "EXCEEDING SAFE SPEED FOR CONDITIONS                                                  1687\n",
       "ROAD ENGINEERING/SURFACE/MARKING DEFECTS                                             1364\n",
       "ROAD CONSTRUCTION/MAINTENANCE                                                        1198\n",
       "DISREGARDING OTHER TRAFFIC SIGNS                                                      979\n",
       "EVASIVE ACTION DUE TO ANIMAL, OBJECT, NONMOTORIST                                     851\n",
       "CELL PHONE USE OTHER THAN TEXTING                                                     660\n",
       "DISREGARDING ROAD MARKINGS                                                            639\n",
       "HAD BEEN DRINKING (USE WHEN ARREST IS NOT MADE)                                       607\n",
       "ANIMAL                                                                                416\n",
       "TURNING RIGHT ON RED                                                                  326\n",
       "DISTRACTION - OTHER ELECTRONIC DEVICE (NAVIGATION DEVICE, DVD PLAYER, ETC.)           227\n",
       "TEXTING                                                                               212\n",
       "DISREGARDING YIELD SIGN                                                               186\n",
       "RELATED TO BUS STOP                                                                   172\n",
       "BICYCLE ADVANCING LEGALLY ON RED LIGHT                                                115\n",
       "PASSING STOPPED SCHOOL BUS                                                             62\n",
       "OBSTRUCTED CROSSWALKS                                                                  38\n",
       "MOTORCYCLE ADVANCING LEGALLY ON RED LIGHT                                              36\n",
       "Name: PRIM_CONTRIBUTORY_CAUSE, dtype: int64"
      ]
     },
     "execution_count": 73,
     "metadata": {},
     "output_type": "execute_result"
    }
   ],
   "source": [
    "df['PRIM_CONTRIBUTORY_CAUSE'].value_counts()"
   ]
  },
  {
   "cell_type": "markdown",
   "metadata": {},
   "source": [
    "Some of the primary causes account for less than a percent of accidents, it might be better to drop these since we dont have enough data regarding these prim causes\n"
   ]
  },
  {
   "cell_type": "code",
   "execution_count": 74,
   "metadata": {
    "ExecuteTime": {
     "end_time": "2021-06-30T20:05:12.869631Z",
     "start_time": "2021-06-30T20:05:12.760669Z"
    }
   },
   "outputs": [],
   "source": [
    "# drop primary causes that account for less than a percent of accidents\n",
    "a = df['PRIM_CONTRIBUTORY_CAUSE'].value_counts()\n",
    "prim_cause_droplist=[]\n",
    "for cause, value in a.items():\n",
    "    if value < (.01*a.sum()):\n",
    "        prim_cause_droplist.append(cause)"
   ]
  },
  {
   "cell_type": "code",
   "execution_count": 75,
   "metadata": {
    "ExecuteTime": {
     "end_time": "2021-06-30T20:05:12.885627Z",
     "start_time": "2021-06-30T20:05:12.872631Z"
    }
   },
   "outputs": [
    {
     "data": {
      "text/plain": [
       "['EQUIPMENT - VEHICLE CONDITION',\n",
       " 'PHYSICAL CONDITION OF DRIVER',\n",
       " 'VISION OBSCURED (SIGNS, TREE LIMBS, BUILDINGS, ETC.)',\n",
       " 'UNDER THE INFLUENCE OF ALCOHOL/DRUGS (USE WHEN ARREST IS EFFECTED)',\n",
       " 'DRIVING ON WRONG SIDE/WRONG WAY',\n",
       " 'DISTRACTION - FROM OUTSIDE VEHICLE',\n",
       " 'EXCEEDING AUTHORIZED SPEED LIMIT',\n",
       " 'EXCEEDING SAFE SPEED FOR CONDITIONS',\n",
       " 'ROAD ENGINEERING/SURFACE/MARKING DEFECTS',\n",
       " 'ROAD CONSTRUCTION/MAINTENANCE',\n",
       " 'DISREGARDING OTHER TRAFFIC SIGNS',\n",
       " 'EVASIVE ACTION DUE TO ANIMAL, OBJECT, NONMOTORIST',\n",
       " 'CELL PHONE USE OTHER THAN TEXTING',\n",
       " 'DISREGARDING ROAD MARKINGS',\n",
       " 'HAD BEEN DRINKING (USE WHEN ARREST IS NOT MADE)',\n",
       " 'ANIMAL',\n",
       " 'TURNING RIGHT ON RED',\n",
       " 'DISTRACTION - OTHER ELECTRONIC DEVICE (NAVIGATION DEVICE, DVD PLAYER, ETC.)',\n",
       " 'TEXTING',\n",
       " 'DISREGARDING YIELD SIGN',\n",
       " 'RELATED TO BUS STOP',\n",
       " 'BICYCLE ADVANCING LEGALLY ON RED LIGHT',\n",
       " 'PASSING STOPPED SCHOOL BUS',\n",
       " 'OBSTRUCTED CROSSWALKS',\n",
       " 'MOTORCYCLE ADVANCING LEGALLY ON RED LIGHT']"
      ]
     },
     "execution_count": 75,
     "metadata": {},
     "output_type": "execute_result"
    }
   ],
   "source": [
    "prim_cause_droplist"
   ]
  },
  {
   "cell_type": "code",
   "execution_count": 76,
   "metadata": {
    "ExecuteTime": {
     "end_time": "2021-06-30T20:05:13.108552Z",
     "start_time": "2021-06-30T20:05:12.889625Z"
    }
   },
   "outputs": [],
   "source": [
    "df = df[~df['PRIM_CONTRIBUTORY_CAUSE'].isin(prim_cause_droplist)]"
   ]
  },
  {
   "cell_type": "code",
   "execution_count": 77,
   "metadata": {
    "ExecuteTime": {
     "end_time": "2021-06-30T20:05:13.204525Z",
     "start_time": "2021-06-30T20:05:13.111553Z"
    }
   },
   "outputs": [
    {
     "data": {
      "text/plain": [
       "UNKNOWN_HR                                                                          72278\n",
       "FAILING TO YIELD RIGHT-OF-WAY                                                       50956\n",
       "FOLLOWING TOO CLOSELY                                                               49380\n",
       "IMPROPER OVERTAKING/PASSING                                                         21873\n",
       "IMPROPER BACKING                                                                    20281\n",
       "FAILING TO REDUCE SPEED TO AVOID CRASH                                              19853\n",
       "IMPROPER LANE USAGE                                                                 18057\n",
       "IMPROPER TURNING/NO SIGNAL                                                          15320\n",
       "DRIVING SKILLS/KNOWLEDGE/EXPERIENCE                                                 14842\n",
       "DISREGARDING TRAFFIC SIGNALS                                                         8188\n",
       "WEATHER                                                                              7415\n",
       "OPERATING VEHICLE IN ERRATIC, RECKLESS, CARELESS, NEGLIGENT OR AGGRESSIVE MANNER     5701\n",
       "DISREGARDING STOP SIGN                                                               5063\n",
       "DISTRACTION - FROM INSIDE VEHICLE                                                    3404\n",
       "Name: PRIM_CONTRIBUTORY_CAUSE, dtype: int64"
      ]
     },
     "execution_count": 77,
     "metadata": {},
     "output_type": "execute_result"
    }
   ],
   "source": [
    "df['PRIM_CONTRIBUTORY_CAUSE'].value_counts()"
   ]
  },
  {
   "cell_type": "code",
   "execution_count": 78,
   "metadata": {
    "ExecuteTime": {
     "end_time": "2021-06-30T20:05:13.299491Z",
     "start_time": "2021-06-30T20:05:13.207521Z"
    }
   },
   "outputs": [
    {
     "data": {
      "text/plain": [
       "NOT APPLICABLE                                                                      122442\n",
       "UNABLE TO DETERMINE                                                                  93849\n",
       "FAILING TO REDUCE SPEED TO AVOID CRASH                                               17080\n",
       "DRIVING SKILLS/KNOWLEDGE/EXPERIENCE                                                  13155\n",
       "FAILING TO YIELD RIGHT-OF-WAY                                                        13000\n",
       "FOLLOWING TOO CLOSELY                                                                11876\n",
       "IMPROPER OVERTAKING/PASSING                                                           6511\n",
       "IMPROPER LANE USAGE                                                                   6097\n",
       "WEATHER                                                                               4882\n",
       "IMPROPER TURNING/NO SIGNAL                                                            4377\n",
       "IMPROPER BACKING                                                                      3810\n",
       "OPERATING VEHICLE IN ERRATIC, RECKLESS, CARELESS, NEGLIGENT OR AGGRESSIVE MANNER      2539\n",
       "DISREGARDING TRAFFIC SIGNALS                                                          1485\n",
       "DISTRACTION - FROM INSIDE VEHICLE                                                     1325\n",
       "DISREGARDING STOP SIGN                                                                1248\n",
       "EXCEEDING SAFE SPEED FOR CONDITIONS                                                   1183\n",
       "EXCEEDING AUTHORIZED SPEED LIMIT                                                      1165\n",
       "VISION OBSCURED (SIGNS, TREE LIMBS, BUILDINGS, ETC.)                                  1162\n",
       "PHYSICAL CONDITION OF DRIVER                                                           675\n",
       "DISTRACTION - FROM OUTSIDE VEHICLE                                                     536\n",
       "EQUIPMENT - VEHICLE CONDITION                                                          503\n",
       "DRIVING ON WRONG SIDE/WRONG WAY                                                        487\n",
       "HAD BEEN DRINKING (USE WHEN ARREST IS NOT MADE)                                        419\n",
       "UNDER THE INFLUENCE OF ALCOHOL/DRUGS (USE WHEN ARREST IS EFFECTED)                     416\n",
       "DISREGARDING ROAD MARKINGS                                                             400\n",
       "DISREGARDING OTHER TRAFFIC SIGNS                                                       354\n",
       "CELL PHONE USE OTHER THAN TEXTING                                                      269\n",
       "ROAD CONSTRUCTION/MAINTENANCE                                                          252\n",
       "ROAD ENGINEERING/SURFACE/MARKING DEFECTS                                               139\n",
       "BICYCLE ADVANCING LEGALLY ON RED LIGHT                                                 133\n",
       "TURNING RIGHT ON RED                                                                   130\n",
       "DISTRACTION - OTHER ELECTRONIC DEVICE (NAVIGATION DEVICE, DVD PLAYER, ETC.)            121\n",
       "RELATED TO BUS STOP                                                                    119\n",
       "EVASIVE ACTION DUE TO ANIMAL, OBJECT, NONMOTORIST                                      111\n",
       "ANIMAL                                                                                 104\n",
       "DISREGARDING YIELD SIGN                                                                 97\n",
       "TEXTING                                                                                 59\n",
       "PASSING STOPPED SCHOOL BUS                                                              51\n",
       "OBSTRUCTED CROSSWALKS                                                                   26\n",
       "MOTORCYCLE ADVANCING LEGALLY ON RED LIGHT                                               24\n",
       "Name: SEC_CONTRIBUTORY_CAUSE, dtype: int64"
      ]
     },
     "execution_count": 78,
     "metadata": {},
     "output_type": "execute_result"
    }
   ],
   "source": [
    "df['SEC_CONTRIBUTORY_CAUSE'].value_counts()"
   ]
  },
  {
   "cell_type": "markdown",
   "metadata": {},
   "source": [
    "Seems like a lot of accidents have only primary cause listed and the secondary cause was left as not appolcable so its not useful to keep secondary cause . We might be better off just dropping it."
   ]
  },
  {
   "cell_type": "code",
   "execution_count": 79,
   "metadata": {
    "ExecuteTime": {
     "end_time": "2021-06-30T20:05:13.426449Z",
     "start_time": "2021-06-30T20:05:13.302490Z"
    }
   },
   "outputs": [],
   "source": [
    "df = df.drop(['SEC_CONTRIBUTORY_CAUSE'],axis = 1)\n"
   ]
  },
  {
   "cell_type": "code",
   "execution_count": 80,
   "metadata": {
    "ExecuteTime": {
     "end_time": "2021-06-30T20:05:13.458442Z",
     "start_time": "2021-06-30T20:05:13.429448Z"
    }
   },
   "outputs": [
    {
     "data": {
      "text/plain": [
       "2     282806\n",
       "3      16907\n",
       "1       8873\n",
       "4       3041\n",
       "5        678\n",
       "6        199\n",
       "7         65\n",
       "8         19\n",
       "9         16\n",
       "10         4\n",
       "11         3\n",
       "Name: NUM_UNITS, dtype: int64"
      ]
     },
     "execution_count": 80,
     "metadata": {},
     "output_type": "execute_result"
    }
   ],
   "source": [
    "df['NUM_UNITS'].value_counts()"
   ]
  },
  {
   "cell_type": "markdown",
   "metadata": {},
   "source": [
    "For Number of units involved in the crash majority of the accidents have 1-4 units , we will take anything above 4 and just pool it in as 5 or more units."
   ]
  },
  {
   "cell_type": "code",
   "execution_count": 81,
   "metadata": {
    "ExecuteTime": {
     "end_time": "2021-06-30T20:05:13.474436Z",
     "start_time": "2021-06-30T20:05:13.461437Z"
    }
   },
   "outputs": [],
   "source": [
    "df.loc[((df['NUM_UNITS'] > 4)) , 'NUM_UNITS'] = 5\n"
   ]
  },
  {
   "cell_type": "code",
   "execution_count": 82,
   "metadata": {
    "ExecuteTime": {
     "end_time": "2021-06-30T20:05:13.506422Z",
     "start_time": "2021-06-30T20:05:13.477434Z"
    }
   },
   "outputs": [
    {
     "data": {
      "text/plain": [
       "2    282806\n",
       "3     16907\n",
       "1      8873\n",
       "4      3041\n",
       "5       984\n",
       "Name: NUM_UNITS, dtype: int64"
      ]
     },
     "execution_count": 82,
     "metadata": {},
     "output_type": "execute_result"
    }
   ],
   "source": [
    "df['NUM_UNITS'].value_counts()"
   ]
  },
  {
   "cell_type": "markdown",
   "metadata": {},
   "source": []
  },
  {
   "cell_type": "code",
   "execution_count": null,
   "metadata": {
    "ExecuteTime": {
     "end_time": "2020-11-27T17:24:42.553529Z",
     "start_time": "2020-11-27T17:24:42.445013Z"
    }
   },
   "outputs": [],
   "source": []
  },
  {
   "cell_type": "code",
   "execution_count": 83,
   "metadata": {
    "ExecuteTime": {
     "end_time": "2021-06-30T20:05:13.586397Z",
     "start_time": "2021-06-30T20:05:13.509422Z"
    }
   },
   "outputs": [
    {
     "data": {
      "text/plain": [
       "NO INDICATION OF INJURY     272764\n",
       "NONINCAPACITATING INJURY     22054\n",
       "REPORTED, NOT EVIDENT        12781\n",
       "INCAPACITATING INJURY         4829\n",
       "FATAL                          183\n",
       "Name: INJURY_TYPE, dtype: int64"
      ]
     },
     "execution_count": 83,
     "metadata": {},
     "output_type": "execute_result"
    }
   ],
   "source": [
    "df['INJURY_TYPE'].value_counts()"
   ]
  },
  {
   "cell_type": "markdown",
   "metadata": {},
   "source": [
    "Location column ordered pair of latitute and longtide which is redundant so we will drop that LAT/Long and keep the co-ordinates as a ordered pair."
   ]
  },
  {
   "cell_type": "code",
   "execution_count": 84,
   "metadata": {
    "ExecuteTime": {
     "end_time": "2021-06-30T20:05:13.697360Z",
     "start_time": "2021-06-30T20:05:13.589396Z"
    }
   },
   "outputs": [],
   "source": [
    "# df = df.drop(['LONGITUDE','LATITUDE'],axis = 1)\n",
    "df = df.drop(['LOCATION'],axis = 1)"
   ]
  },
  {
   "cell_type": "code",
   "execution_count": 85,
   "metadata": {
    "ExecuteTime": {
     "end_time": "2021-06-30T20:05:13.948277Z",
     "start_time": "2021-06-30T20:05:13.700359Z"
    }
   },
   "outputs": [
    {
     "name": "stdout",
     "output_type": "stream",
     "text": [
      "<class 'pandas.core.frame.DataFrame'>\n",
      "Int64Index: 312611 entries, 3 to 458725\n",
      "Data columns (total 25 columns):\n",
      " #   Column                   Non-Null Count   Dtype  \n",
      "---  ------                   --------------   -----  \n",
      " 0   POSTED_SPEED_LIMIT       312611 non-null  int64  \n",
      " 1   TRAFFIC_CONTROL_DEVICE   312611 non-null  object \n",
      " 2   DEVICE_CONDITION         312611 non-null  object \n",
      " 3   WEATHER_CONDITION        312611 non-null  object \n",
      " 4   LIGHTING_CONDITION       312611 non-null  object \n",
      " 5   FIRST_CRASH_TYPE         312611 non-null  object \n",
      " 6   TRAFFICWAY_TYPE          312611 non-null  object \n",
      " 7   ALIGNMENT                312611 non-null  int64  \n",
      " 8   ROAD_DEFECT              312611 non-null  int64  \n",
      " 9   CRASH_TYPE               312611 non-null  int64  \n",
      " 10  INTERSECTION_RELATED_I   312611 non-null  int64  \n",
      " 11  NOT_RIGHT_OF_WAY_I       312611 non-null  int64  \n",
      " 12  HIT_AND_RUN_I            312611 non-null  int64  \n",
      " 13  DOLLAR_DAMAGE            312611 non-null  object \n",
      " 14  PRIM_CONTRIBUTORY_CAUSE  312611 non-null  object \n",
      " 15  DOORING_I                312611 non-null  int64  \n",
      " 16  WORK_ZONE_I              312611 non-null  int64  \n",
      " 17  WORKERS_PRESENT_I        312611 non-null  int64  \n",
      " 18  NUM_UNITS                312611 non-null  int64  \n",
      " 19  INJURY_TYPE              312611 non-null  object \n",
      " 20  CRASH_HOUR               312611 non-null  int64  \n",
      " 21  CRASH_DAY_OF_WEEK        312611 non-null  int64  \n",
      " 22  CRASH_MONTH              312611 non-null  int64  \n",
      " 23  LATITUDE                 312611 non-null  float64\n",
      " 24  LONGITUDE                312611 non-null  float64\n",
      "dtypes: float64(2), int64(14), object(9)\n",
      "memory usage: 62.0+ MB\n"
     ]
    }
   ],
   "source": [
    "df.info()"
   ]
  },
  {
   "cell_type": "code",
   "execution_count": 86,
   "metadata": {
    "ExecuteTime": {
     "end_time": "2021-06-30T20:05:14.880225Z",
     "start_time": "2021-06-30T20:05:13.951277Z"
    }
   },
   "outputs": [
    {
     "name": "stdout",
     "output_type": "stream",
     "text": [
      "30    232229\n",
      "35     21431\n",
      "25     18698\n",
      "20     11945\n",
      "15     10810\n",
      "10      6022\n",
      "0       4285\n",
      "40      2823\n",
      "5       2266\n",
      "45      1796\n",
      "50       306\n",
      "Name: POSTED_SPEED_LIMIT, dtype: int64\n",
      "-------------------------------------------------------\n",
      "NO CONTROLS    181925\n",
      "SIGNAL          90076\n",
      "SIGN            31348\n",
      "UNKNOWN          9262\n",
      "Name: TRAFFIC_CONTROL_DEVICE, dtype: int64\n",
      "-------------------------------------------------------\n",
      "NO CONTROLS     192051\n",
      "FUNCTIONAL      115236\n",
      "UNFUNCTIONAL      5324\n",
      "Name: DEVICE_CONDITION, dtype: int64\n",
      "-------------------------------------------------------\n",
      "CLEAR       257649\n",
      "RAIN         30422\n",
      "SNOW/ICE     12772\n",
      "UNKNOWN      11768\n",
      "Name: WEATHER_CONDITION, dtype: int64\n",
      "-------------------------------------------------------\n",
      "DAYLIGHT    201613\n",
      "LIGHTED      68060\n",
      "DIM          26935\n",
      "DARK         16003\n",
      "Name: LIGHTING_CONDITION, dtype: int64\n",
      "-------------------------------------------------------\n",
      "REAR END                79025\n",
      "PARKED MOTOR VEHICLE    74699\n",
      "SIDESWIPE               62737\n",
      "TURNING                 46662\n",
      "ANGLE                   34369\n",
      "PEDESTRIAN               6920\n",
      "PEDALCYCLIST             4245\n",
      "HEAD ON                  2284\n",
      "HIT_BY_REAR              1303\n",
      "OTHER NONCOLLISION        367\n",
      "Name: FIRST_CRASH_TYPE, dtype: int64\n",
      "-------------------------------------------------------\n",
      "NOT DIVIDED            150229\n",
      "DIVIDED                 75851\n",
      "ONE-WAY                 43213\n",
      "PARKING LOT             21248\n",
      "FOUR WAY                 9872\n",
      "ALLEY                    4696\n",
      "CENTER TURN LANE         2886\n",
      "THREE_WAY_INT            2240\n",
      "DRIVEWAY                  949\n",
      "RAMP                      910\n",
      "FIVE POINT, OR MORE       240\n",
      "TRAFFIC ROUTE             194\n",
      "ROUNDABOUT                 53\n",
      "L-INTERSECTION             30\n",
      "Name: TRAFFICWAY_TYPE, dtype: int64\n",
      "-------------------------------------------------------\n",
      "1    309924\n",
      "0      2687\n",
      "Name: ALIGNMENT, dtype: int64\n",
      "-------------------------------------------------------\n",
      "0    308069\n",
      "1      4542\n",
      "Name: ROAD_DEFECT, dtype: int64\n",
      "-------------------------------------------------------\n",
      "0    236744\n",
      "1     75867\n",
      "Name: CRASH_TYPE, dtype: int64\n",
      "-------------------------------------------------------\n",
      "0    241600\n",
      "1     71011\n",
      "Name: INTERSECTION_RELATED_I, dtype: int64\n",
      "-------------------------------------------------------\n",
      "0    300337\n",
      "1     12274\n",
      "Name: NOT_RIGHT_OF_WAY_I, dtype: int64\n",
      "-------------------------------------------------------\n",
      "0    190012\n",
      "1    122599\n",
      "Name: HIT_AND_RUN_I, dtype: int64\n",
      "-------------------------------------------------------\n",
      "OVER 1500      183361\n",
      "501 - 1500      90358\n",
      "500 OR LESS     38892\n",
      "Name: DOLLAR_DAMAGE, dtype: int64\n",
      "-------------------------------------------------------\n",
      "UNKNOWN_HR                                                                          72278\n",
      "FAILING TO YIELD RIGHT-OF-WAY                                                       50956\n",
      "FOLLOWING TOO CLOSELY                                                               49380\n",
      "IMPROPER OVERTAKING/PASSING                                                         21873\n",
      "IMPROPER BACKING                                                                    20281\n",
      "FAILING TO REDUCE SPEED TO AVOID CRASH                                              19853\n",
      "IMPROPER LANE USAGE                                                                 18057\n",
      "IMPROPER TURNING/NO SIGNAL                                                          15320\n",
      "DRIVING SKILLS/KNOWLEDGE/EXPERIENCE                                                 14842\n",
      "DISREGARDING TRAFFIC SIGNALS                                                         8188\n",
      "WEATHER                                                                              7415\n",
      "OPERATING VEHICLE IN ERRATIC, RECKLESS, CARELESS, NEGLIGENT OR AGGRESSIVE MANNER     5701\n",
      "DISREGARDING STOP SIGN                                                               5063\n",
      "DISTRACTION - FROM INSIDE VEHICLE                                                    3404\n",
      "Name: PRIM_CONTRIBUTORY_CAUSE, dtype: int64\n",
      "-------------------------------------------------------\n",
      "0    312126\n",
      "1       485\n",
      "Name: DOORING_I, dtype: int64\n",
      "-------------------------------------------------------\n",
      "0    311328\n",
      "1      1283\n",
      "Name: WORK_ZONE_I, dtype: int64\n",
      "-------------------------------------------------------\n",
      "0    312268\n",
      "1       343\n",
      "Name: WORKERS_PRESENT_I, dtype: int64\n",
      "-------------------------------------------------------\n",
      "2    282806\n",
      "3     16907\n",
      "1      8873\n",
      "4      3041\n",
      "5       984\n",
      "Name: NUM_UNITS, dtype: int64\n",
      "-------------------------------------------------------\n",
      "NO INDICATION OF INJURY     272764\n",
      "NONINCAPACITATING INJURY     22054\n",
      "REPORTED, NOT EVIDENT        12781\n",
      "INCAPACITATING INJURY         4829\n",
      "FATAL                          183\n",
      "Name: INJURY_TYPE, dtype: int64\n",
      "-------------------------------------------------------\n",
      "16    23825\n",
      "17    23461\n",
      "15    23296\n",
      "14    20531\n",
      "18    19298\n",
      "13    18675\n",
      "12    18091\n",
      "8     16972\n",
      "11    15818\n",
      "9     14728\n",
      "10    14445\n",
      "19    14285\n",
      "7     13864\n",
      "20    11430\n",
      "21    10391\n",
      "22     9599\n",
      "23     8101\n",
      "6      7164\n",
      "0      6714\n",
      "1      5472\n",
      "2      4704\n",
      "5      4378\n",
      "3      3845\n",
      "4      3524\n",
      "Name: CRASH_HOUR, dtype: int64\n",
      "-------------------------------------------------------\n",
      "6    50693\n",
      "7    46787\n",
      "5    44834\n",
      "3    44233\n",
      "4    44025\n",
      "2    43358\n",
      "1    38681\n",
      "Name: CRASH_DAY_OF_WEEK, dtype: int64\n",
      "-------------------------------------------------------\n",
      "10    31531\n",
      "9     29368\n",
      "11    28921\n",
      "8     28348\n",
      "7     27356\n",
      "6     25849\n",
      "12    25528\n",
      "5     25278\n",
      "1     23593\n",
      "3     22923\n",
      "2     22266\n",
      "4     21650\n",
      "Name: CRASH_MONTH, dtype: int64\n",
      "-------------------------------------------------------\n",
      "41.976201    376\n",
      "41.751461    203\n",
      "41.791420    192\n",
      "41.722257    160\n",
      "41.900959    147\n",
      "            ... \n",
      "41.924892      1\n",
      "41.984745      1\n",
      "41.968611      1\n",
      "42.010303      1\n",
      "41.763714      1\n",
      "Name: LATITUDE, Length: 156893, dtype: int64\n",
      "-------------------------------------------------------\n",
      "-87.905309    376\n",
      "-87.585972    203\n",
      "-87.580148    192\n",
      "-87.585276    160\n",
      "-87.619928    147\n",
      "             ... \n",
      "-87.807118      1\n",
      "-87.769849      1\n",
      "-87.698853      1\n",
      "-87.648118      1\n",
      "-87.766336      1\n",
      "Name: LONGITUDE, Length: 156892, dtype: int64\n",
      "-------------------------------------------------------\n"
     ]
    }
   ],
   "source": [
    "for col in df.columns:\n",
    "    print(df[col].value_counts())\n",
    "    print(\"-------------------------------------------------------\")"
   ]
  },
  {
   "cell_type": "markdown",
   "metadata": {},
   "source": [
    "WE should drop columns pertaining to the prim causes that were less than 1 %"
   ]
  },
  {
   "cell_type": "code",
   "execution_count": 87,
   "metadata": {
    "ExecuteTime": {
     "end_time": "2021-06-30T20:05:15.039172Z",
     "start_time": "2021-06-30T20:05:14.882224Z"
    }
   },
   "outputs": [],
   "source": [
    "df.drop(columns= ['DOORING_I','WORK_ZONE_I','WORKERS_PRESENT_I']\n",
    "                    ,axis = 1,inplace=True)"
   ]
  },
  {
   "cell_type": "markdown",
   "metadata": {},
   "source": [
    "#### Save processed data "
   ]
  },
  {
   "cell_type": "code",
   "execution_count": 88,
   "metadata": {
    "ExecuteTime": {
     "end_time": "2021-06-30T20:05:19.262235Z",
     "start_time": "2021-06-30T20:05:15.047171Z"
    }
   },
   "outputs": [],
   "source": [
    "\n",
    "df.to_csv('Data/Clean_data_all', index = False)"
   ]
  },
  {
   "cell_type": "code",
   "execution_count": null,
   "metadata": {},
   "outputs": [],
   "source": []
  }
 ],
 "metadata": {
  "kernelspec": {
   "display_name": "Python 3",
   "language": "python",
   "name": "python3"
  },
  "language_info": {
   "codemirror_mode": {
    "name": "ipython",
    "version": 3
   },
   "file_extension": ".py",
   "mimetype": "text/x-python",
   "name": "python",
   "nbconvert_exporter": "python",
   "pygments_lexer": "ipython3",
   "version": "3.6.12"
  },
  "toc": {
   "base_numbering": 1,
   "nav_menu": {},
   "number_sections": true,
   "sideBar": true,
   "skip_h1_title": false,
   "title_cell": "Table of Contents",
   "title_sidebar": "Contents",
   "toc_cell": false,
   "toc_position": {},
   "toc_section_display": true,
   "toc_window_display": true
  },
  "varInspector": {
   "cols": {
    "lenName": 16,
    "lenType": 16,
    "lenVar": 40
   },
   "kernels_config": {
    "python": {
     "delete_cmd_postfix": "",
     "delete_cmd_prefix": "del ",
     "library": "var_list.py",
     "varRefreshCmd": "print(var_dic_list())"
    },
    "r": {
     "delete_cmd_postfix": ") ",
     "delete_cmd_prefix": "rm(",
     "library": "var_list.r",
     "varRefreshCmd": "cat(var_dic_list()) "
    }
   },
   "types_to_exclude": [
    "module",
    "function",
    "builtin_function_or_method",
    "instance",
    "_Feature"
   ],
   "window_display": false
  }
 },
 "nbformat": 4,
 "nbformat_minor": 4
}
